{
 "cells": [
  {
   "cell_type": "markdown",
   "id": "cd38c757",
   "metadata": {},
   "source": [
    "   ## Project Statement"
   ]
  },
  {
   "cell_type": "markdown",
   "id": "1b8f59cb",
   "metadata": {},
   "source": [
    "*This Project aims to investigate the volatility patterns of Bitcoin prices, focusing on identifying periods of significant fluctuations and understanding the underlying triggers. Utilizing the Generalized Autoregressive Conditional Heteroskedasticity (GARCH) model, the project will analyze historical Bitcoin price data to model time-varying volatility, thereby shedding light on how past price movements and volatilities influence current market conditions. This analysis is important for comprehending the risk in the cryptocurrency market, providing valuable insights for investors, policymakers, and scholars interested in the financial stability and investment strategies related to digital currencies. I would use historical Bitcoin Price data from Data.world website.*"
   ]
  },
  {
   "cell_type": "code",
   "execution_count": null,
   "id": "e839fb30",
   "metadata": {},
   "outputs": [],
   "source": []
  }
 ],
 "metadata": {
  "kernelspec": {
   "display_name": "Python 3 (ipykernel)",
   "language": "python",
   "name": "python3"
  },
  "language_info": {
   "codemirror_mode": {
    "name": "ipython",
    "version": 3
   },
   "file_extension": ".py",
   "mimetype": "text/x-python",
   "name": "python",
   "nbconvert_exporter": "python",
   "pygments_lexer": "ipython3",
   "version": "3.11.5"
  }
 },
 "nbformat": 4,
 "nbformat_minor": 5
}
