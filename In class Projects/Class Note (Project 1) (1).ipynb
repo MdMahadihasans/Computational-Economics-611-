{
 "cells": [
  {
   "cell_type": "markdown",
   "id": "a975c7ea",
   "metadata": {},
   "source": [
    "**Name: Md Mahadi Hasan**  \n",
    "**Class Note for project 1 or chapter 1.**"
   ]
  },
  {
   "cell_type": "code",
   "execution_count": 32,
   "id": "add1e5e8",
   "metadata": {},
   "outputs": [
    {
     "name": "stdout",
     "output_type": "stream",
     "text": [
      "Hello World\n",
      "We are coding in Jupyter\n"
     ]
    }
   ],
   "source": [
    "print('Hello World')\n",
    "Message=\"We are coding in Jupyter\"\n",
    "print(Message)"
   ]
  },
  {
   "cell_type": "markdown",
   "id": "ca2a931c",
   "metadata": {},
   "source": [
    "# Keyboard Shortcuts\n",
    "*Creating a new cell: ALT + Enter*  \n",
    "*Executing codes in cell: CTRL + Enter*  \n",
    "*Run cell and move to next cell: Shift+ Enter*\n"
   ]
  },
  {
   "cell_type": "markdown",
   "id": "b8b6e3ea",
   "metadata": {},
   "source": [
    "# The next few cells will be about String Method\n"
   ]
  },
  {
   "cell_type": "code",
   "execution_count": 7,
   "id": "bc49adcb",
   "metadata": {},
   "outputs": [
    {
     "data": {
      "text/plain": [
       "'fortune favors the bold'"
      ]
     },
     "execution_count": 7,
     "metadata": {},
     "output_type": "execute_result"
    }
   ],
   "source": [
    "quote='Fortune Favors the Bold'\n",
    "quote.lower()"
   ]
  },
  {
   "cell_type": "code",
   "execution_count": 8,
   "id": "7e5a4523",
   "metadata": {},
   "outputs": [
    {
     "data": {
      "text/plain": [
       "'FORTUNE FAVORS THE BOLD'"
      ]
     },
     "execution_count": 8,
     "metadata": {},
     "output_type": "execute_result"
    }
   ],
   "source": [
    "quote.upper ()"
   ]
  },
  {
   "cell_type": "markdown",
   "id": "ce6ecb91",
   "metadata": {},
   "source": [
    "### Concatenating  \n",
    "\n",
    "When we concatenate an object, we are essentially taking one object and appending another object to it.\n",
    "\n",
    "**String Concatenation:**"
   ]
  },
  {
   "cell_type": "code",
   "execution_count": 11,
   "id": "62676156",
   "metadata": {},
   "outputs": [
    {
     "name": "stdout",
     "output_type": "stream",
     "text": [
      "Hello World\n"
     ]
    }
   ],
   "source": [
    "greeting = \"Hello\" + \" \" + \"World\"\n",
    "print(greeting)"
   ]
  },
  {
   "cell_type": "markdown",
   "id": "901e4a5b",
   "metadata": {},
   "source": [
    "**List Concatenation:**"
   ]
  },
  {
   "cell_type": "code",
   "execution_count": 13,
   "id": "70412c08",
   "metadata": {},
   "outputs": [
    {
     "name": "stdout",
     "output_type": "stream",
     "text": [
      "[1, 2, 3, 4, 5, 6]\n"
     ]
    }
   ],
   "source": [
    "numbers1 = [1, 2, 3]\n",
    "numbers2 = [4, 5, 6]\n",
    "combined_numbers = numbers1 + numbers2\n",
    "print(combined_numbers)"
   ]
  },
  {
   "cell_type": "code",
   "execution_count": 2,
   "id": "38f39025",
   "metadata": {},
   "outputs": [
    {
     "name": "stdout",
     "output_type": "stream",
     "text": [
      "[0, 1, 2, 3, 4, 5, 6, 7, 8, 9, 10, 11, 12, 13, 14, 15, 16, 17, 18, 19, 20, 21, 22, 23, 24, 25, 26, 27, 28, 29, 30, 31, 32, 33, 34, 35, 36, 37, 38, 39, 40, 41, 42, 43, 44, 45, 46, 47, 48, 49, 50, 51, 52, 53, 54, 55, 56, 57, 58, 59, 60, 61, 62, 63, 64, 65, 66, 67, 68, 69, 70, 71, 72, 73, 74, 75, 76, 77, 78, 79, 80, 81, 82, 83, 84, 85, 86, 87, 88, 89, 90, 91, 92, 93, 94, 95, 96, 97, 98, 99]\n"
     ]
    }
   ],
   "source": [
    "print(list(i for i in range(100)))\n"
   ]
  },
  {
   "cell_type": "markdown",
   "id": "cbd29c96",
   "metadata": {},
   "source": [
    "# tuple"
   ]
  },
  {
   "cell_type": "code",
   "execution_count": 17,
   "id": "9f4648f0",
   "metadata": {},
   "outputs": [],
   "source": [
    "line1=\"This is a dog\"  \n",
    "line2=\"This is a cat\""
   ]
  },
  {
   "cell_type": "code",
   "execution_count": 24,
   "id": "f37e0602",
   "metadata": {},
   "outputs": [
    {
     "data": {
      "text/plain": [
       "('This is a dog', 'This is a cat')"
      ]
     },
     "execution_count": 24,
     "metadata": {},
     "output_type": "execute_result"
    }
   ],
   "source": [
    "line1,line2"
   ]
  },
  {
   "cell_type": "code",
   "execution_count": 28,
   "id": "37f2d523",
   "metadata": {},
   "outputs": [
    {
     "name": "stdout",
     "output_type": "stream",
     "text": [
      "This is a dog This is a cat\n"
     ]
    }
   ],
   "source": [
    "print(line1,line2)"
   ]
  },
  {
   "cell_type": "code",
   "execution_count": 29,
   "id": "26dae873",
   "metadata": {},
   "outputs": [
    {
     "name": "stdout",
     "output_type": "stream",
     "text": [
      "This is a dog\n",
      "This is a cat\n"
     ]
    }
   ],
   "source": [
    "print(line1,line2, sep='\\n')"
   ]
  },
  {
   "cell_type": "code",
   "execution_count": 30,
   "id": "6e7e3309",
   "metadata": {},
   "outputs": [
    {
     "name": "stdout",
     "output_type": "stream",
     "text": [
      "This is a dog::This is a cat\n"
     ]
    }
   ],
   "source": [
    "print(line1,line2, sep='::')"
   ]
  },
  {
   "cell_type": "code",
   "execution_count": 31,
   "id": "2b500ce2",
   "metadata": {},
   "outputs": [
    {
     "name": "stdout",
     "output_type": "stream",
     "text": [
      "This is a dog This is a cat\n"
     ]
    }
   ],
   "source": [
    "print(line1,line2, sep=' ')\n"
   ]
  },
  {
   "cell_type": "markdown",
   "id": "b2048540",
   "metadata": {},
   "source": [
    "## Double quotes, single quotes and escape.\n",
    "**To include single quotes in a string, we can either enclose the string in double quotes or escape the single quote using a backslash '\\'**"
   ]
  },
  {
   "cell_type": "code",
   "execution_count": 4,
   "id": "09e62760",
   "metadata": {},
   "outputs": [
    {
     "data": {
      "text/plain": [
       "\"Here's an example with single quotes.\""
      ]
     },
     "execution_count": 4,
     "metadata": {},
     "output_type": "execute_result"
    }
   ],
   "source": [
    "string_with_single_quote = \"Here's an example with single quotes.\"  \n",
    "string_with_single_quote\n"
   ]
  },
  {
   "cell_type": "code",
   "execution_count": 5,
   "id": "38f9cfdb",
   "metadata": {},
   "outputs": [
    {
     "data": {
      "text/plain": [
       "\"Here's an example with single quotes.\""
      ]
     },
     "execution_count": 5,
     "metadata": {},
     "output_type": "execute_result"
    }
   ],
   "source": [
    "string_with_single_quote_escaped = 'Here\\'s an example with single quotes.'\n",
    "string_with_single_quote_escaped "
   ]
  },
  {
   "cell_type": "code",
   "execution_count": 7,
   "id": "c20a5e9a",
   "metadata": {},
   "outputs": [
    {
     "data": {
      "text/plain": [
       "'\"Double quotes\" can be included like this.'"
      ]
     },
     "execution_count": 7,
     "metadata": {},
     "output_type": "execute_result"
    }
   ],
   "source": [
    "string_with_double_quotes = '\"Double quotes\" can be included like this.'\n",
    "string_with_double_quotes"
   ]
  },
  {
   "cell_type": "code",
   "execution_count": 8,
   "id": "dc22c7ba",
   "metadata": {},
   "outputs": [
    {
     "data": {
      "text/plain": [
       "'\"Double quotes\" can be included like this.'"
      ]
     },
     "execution_count": 8,
     "metadata": {},
     "output_type": "execute_result"
    }
   ],
   "source": [
    "string_with_double_quotes_escaped = \"\\\"Double quotes\\\" can be included like this.\"\n",
    "string_with_double_quotes_escaped"
   ]
  },
  {
   "cell_type": "code",
   "execution_count": 10,
   "id": "edad0b46",
   "metadata": {},
   "outputs": [
    {
     "name": "stdout",
     "output_type": "stream",
     "text": [
      "Look at all the spaces in the text!    \n"
     ]
    }
   ],
   "source": [
    "spaces = \"    Look at all the spaces in the text!    \"\n",
    "print(spaces.lstrip())"
   ]
  },
  {
   "cell_type": "code",
   "execution_count": 12,
   "id": "f125e3ce",
   "metadata": {},
   "outputs": [
    {
     "name": "stdout",
     "output_type": "stream",
     "text": [
      "Look at all the spaces in the text!\n"
     ]
    }
   ],
   "source": [
    "print(spaces.strip())"
   ]
  },
  {
   "cell_type": "code",
   "execution_count": 13,
   "id": "8a0567a7",
   "metadata": {},
   "outputs": [
    {
     "name": "stdout",
     "output_type": "stream",
     "text": [
      "Lookatallthespacesinthetext!\n"
     ]
    }
   ],
   "source": [
    "print(spaces.replace(\" \", \"\"))"
   ]
  },
  {
   "cell_type": "code",
   "execution_count": 14,
   "id": "07379877",
   "metadata": {},
   "outputs": [
    {
     "name": "stdout",
     "output_type": "stream",
     "text": [
      "----Look-at-all-the-spaces-in-the-text!----\n"
     ]
    }
   ],
   "source": [
    "print(spaces.replace(\" \", \"-\"))"
   ]
  },
  {
   "cell_type": "markdown",
   "id": "a3f4134c",
   "metadata": {},
   "source": [
    "# Working with values/numbers"
   ]
  },
  {
   "cell_type": "code",
   "execution_count": 15,
   "id": "e0799ac1",
   "metadata": {},
   "outputs": [
    {
     "data": {
      "text/plain": [
       "(3, 3.0, '3')"
      ]
     },
     "execution_count": 15,
     "metadata": {},
     "output_type": "execute_result"
    }
   ],
   "source": [
    "xint = 3\n",
    "xfloat = 3.\n",
    "xstr = '3'\n",
    "xint, xfloat, xstr\n"
   ]
  },
  {
   "cell_type": "code",
   "execution_count": 16,
   "id": "2aa42576",
   "metadata": {},
   "outputs": [
    {
     "name": "stdout",
     "output_type": "stream",
     "text": [
      "6.0 <class 'float'>\n"
     ]
    }
   ],
   "source": [
    "\n",
    "print(xint + xfloat, type(xint + xfloat))"
   ]
  },
  {
   "cell_type": "markdown",
   "id": "b185e9dc",
   "metadata": {},
   "source": [
    "**operation between a string and a float (this will cause an error)**"
   ]
  },
  {
   "cell_type": "code",
   "execution_count": 17,
   "id": "3ef1ced7",
   "metadata": {},
   "outputs": [
    {
     "ename": "TypeError",
     "evalue": "can only concatenate str (not \"float\") to str",
     "output_type": "error",
     "traceback": [
      "\u001b[1;31m---------------------------------------------------------------------------\u001b[0m",
      "\u001b[1;31mTypeError\u001b[0m                                 Traceback (most recent call last)",
      "Cell \u001b[1;32mIn[17], line 1\u001b[0m\n\u001b[1;32m----> 1\u001b[0m \u001b[38;5;28mprint\u001b[39m(xstr \u001b[38;5;241m+\u001b[39m xfloat)\n",
      "\u001b[1;31mTypeError\u001b[0m: can only concatenate str (not \"float\") to str"
     ]
    }
   ],
   "source": [
    "print(xstr + xfloat)"
   ]
  },
  {
   "cell_type": "markdown",
   "id": "02f1342e",
   "metadata": {},
   "source": [
    "### Concatenating a string with a representation of a float"
   ]
  },
  {
   "cell_type": "code",
   "execution_count": 18,
   "id": "f64f8e66",
   "metadata": {},
   "outputs": [
    {
     "name": "stdout",
     "output_type": "stream",
     "text": [
      "33.0\n"
     ]
    }
   ],
   "source": [
    "xstr = '3'\n",
    "xfloat = 3.0\n",
    "print(xstr + str(xfloat))"
   ]
  },
  {
   "cell_type": "markdown",
   "id": "37a9d8d5",
   "metadata": {},
   "source": [
    "### Concatenating a string with a representation of an integer"
   ]
  },
  {
   "cell_type": "code",
   "execution_count": 19,
   "id": "b8901b23",
   "metadata": {},
   "outputs": [
    {
     "name": "stdout",
     "output_type": "stream",
     "text": [
      "33\n"
     ]
    }
   ],
   "source": [
    "xint = 3\n",
    "print(xstr + str(xint)) "
   ]
  },
  {
   "cell_type": "code",
   "execution_count": 20,
   "id": "f4064ba8",
   "metadata": {},
   "outputs": [
    {
     "name": "stdout",
     "output_type": "stream",
     "text": [
      "6\n"
     ]
    }
   ],
   "source": [
    "print(int(xstr) + xint) "
   ]
  },
  {
   "cell_type": "code",
   "execution_count": 21,
   "id": "d47e751b",
   "metadata": {},
   "outputs": [
    {
     "name": "stdout",
     "output_type": "stream",
     "text": [
      "6.0\n"
     ]
    }
   ],
   "source": [
    "print(float(xstr) + xint) "
   ]
  },
  {
   "cell_type": "markdown",
   "id": "add8452b",
   "metadata": {},
   "source": [
    "### A dictionary mapping strings to values"
   ]
  },
  {
   "cell_type": "code",
   "execution_count": 22,
   "id": "0ba9e510",
   "metadata": {},
   "outputs": [],
   "source": [
    "string_to_value = {\n",
    "    \"One\": 1,\n",
    "    \"Two\": 2,\n",
    "    \"Three\": 3,\n",
    "    \"Four\": 4\n",
    "}"
   ]
  },
  {
   "cell_type": "markdown",
   "id": "6f7c49af",
   "metadata": {},
   "source": [
    "**Iterating over the dictionary and printing key-value pairs**"
   ]
  },
  {
   "cell_type": "code",
   "execution_count": 23,
   "id": "9158aa8f",
   "metadata": {},
   "outputs": [
    {
     "name": "stdout",
     "output_type": "stream",
     "text": [
      "One 1\n",
      "Two 2\n",
      "Three 3\n",
      "Four 4\n"
     ]
    }
   ],
   "source": [
    "for key, val in string_to_value.items():\n",
    "    print(key, val) "
   ]
  },
  {
   "cell_type": "markdown",
   "id": "3199d9d8",
   "metadata": {},
   "source": [
    "## Overflow error in arithmetic operation"
   ]
  },
  {
   "cell_type": "markdown",
   "id": "5b08cad6",
   "metadata": {},
   "source": [
    "Float cannot be $2.0^{1024}$ or larger.\n",
    "*This operation below calculates 2 raised to the power of 1023, which results in a very large number but still within the range that can be represented by a float in Python. The output is displayed in scientific notation*"
   ]
  },
  {
   "cell_type": "markdown",
   "id": "437b69a8",
   "metadata": {},
   "source": [
    "result = 2.0**1023\n",
    "print(result)"
   ]
  },
  {
   "cell_type": "code",
   "execution_count": 29,
   "id": "1c971d96",
   "metadata": {},
   "outputs": [
    {
     "ename": "OverflowError",
     "evalue": "(34, 'Result too large')",
     "output_type": "error",
     "traceback": [
      "\u001b[1;31m---------------------------------------------------------------------------\u001b[0m",
      "\u001b[1;31mOverflowError\u001b[0m                             Traceback (most recent call last)",
      "Cell \u001b[1;32mIn[29], line 1\u001b[0m\n\u001b[1;32m----> 1\u001b[0m result \u001b[38;5;241m=\u001b[39m \u001b[38;5;241m2.0\u001b[39m\u001b[38;5;241m*\u001b[39m\u001b[38;5;241m*\u001b[39m\u001b[38;5;241m1024\u001b[39m\n",
      "\u001b[1;31mOverflowError\u001b[0m: (34, 'Result too large')"
     ]
    }
   ],
   "source": [
    "result = 2.0**1024"
   ]
  },
  {
   "cell_type": "markdown",
   "id": "3b7ece01",
   "metadata": {},
   "source": [
    "**This will work for integers, because Python handles arbitrary-precision integers**"
   ]
  },
  {
   "cell_type": "code",
   "execution_count": 30,
   "id": "eab4b137",
   "metadata": {},
   "outputs": [
    {
     "name": "stdout",
     "output_type": "stream",
     "text": [
      "359538626972463181545861038157804946723595395788461314546860162315465351611001926265416954644815072042240227759742786715317579537628833244985694861278948248755535786849730970552604439202492188238906165904170011537676301364684925762947826221081654474326701021369172596479894491876959432609670712659248448274432\n"
     ]
    }
   ],
   "source": [
    "result = 2**1024 * 2\n",
    "print(result)"
   ]
  },
  {
   "cell_type": "code",
   "execution_count": null,
   "id": "0bd00174",
   "metadata": {},
   "outputs": [],
   "source": []
  }
 ],
 "metadata": {
  "kernelspec": {
   "display_name": "Python 3 (ipykernel)",
   "language": "python",
   "name": "python3"
  },
  "language_info": {
   "codemirror_mode": {
    "name": "ipython",
    "version": 3
   },
   "file_extension": ".py",
   "mimetype": "text/x-python",
   "name": "python",
   "nbconvert_exporter": "python",
   "pygments_lexer": "ipython3",
   "version": "3.11.5"
  }
 },
 "nbformat": 4,
 "nbformat_minor": 5
}
