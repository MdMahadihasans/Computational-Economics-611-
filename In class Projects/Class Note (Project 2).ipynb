{
 "cells": [
  {
   "cell_type": "code",
   "execution_count": 4,
   "id": "dc5d1b15",
   "metadata": {},
   "outputs": [
    {
     "name": "stdout",
     "output_type": "stream",
     "text": [
      "[]\n",
      "[1, 2, 3, 4]\n",
      "[2.0, 3.3, 6.0]\n",
      "['Md', 'Mahadi', 'Hasan']\n",
      "[1, 2, 3.3, 'MD']\n"
     ]
    }
   ],
   "source": [
    "empty_list=[ ]\n",
    "int_list=[1,2,3,4]\n",
    "float_list=[2.0, 3.3,6.0]\n",
    "string_list=[\"Md\", \"Mahadi\", \"Hasan\",]\n",
    "mixed_list=[1,2,3.3,\"MD\"]\n",
    "\n",
    "print(empty_list)  \n",
    "print(int_list)  \n",
    "print(float_list)  \n",
    "print(string_list)  \n",
    "print(mixed_list)\n"
   ]
  },
  {
   "cell_type": "code",
   "execution_count": 5,
   "id": "87819f8c",
   "metadata": {},
   "outputs": [
    {
     "name": "stdout",
     "output_type": "stream",
     "text": [
      "<class 'list'> [1, 2, 3.3, 'MD']\n"
     ]
    }
   ],
   "source": [
    "# Printing the type of the 'mixed_list' itself\n",
    "print(type(mixed_list), mixed_list)"
   ]
  },
  {
   "cell_type": "code",
   "execution_count": 6,
   "id": "9b36cd21",
   "metadata": {},
   "outputs": [
    {
     "name": "stdout",
     "output_type": "stream",
     "text": [
      "<class 'int'> 1\n",
      "<class 'int'> 2\n",
      "<class 'float'> 3.3\n",
      "<class 'str'> MD\n"
     ]
    }
   ],
   "source": [
    "for value in mixed_list:\n",
    "    print(type(value), value)\n"
   ]
  },
  {
   "cell_type": "markdown",
   "id": "b975c0b8",
   "metadata": {},
   "source": [
    "### concatenate Lists"
   ]
  },
  {
   "cell_type": "code",
   "execution_count": 9,
   "id": "aa720a4b",
   "metadata": {},
   "outputs": [
    {
     "name": "stdout",
     "output_type": "stream",
     "text": [
      "[1, 2, 3, 4, 5]\n",
      "['Stanely Kunrick', 'Andrei tarkovsky', 'Christopher nolan']\n",
      "[0.1, 0.2, 0.3, 0.4, 0.5]\n",
      "[1, 2, 3, 4, 5, 'Stanely Kunrick', 'Andrei tarkovsky', 'Christopher nolan', 0.1, 0.2, 0.3, 0.4, 0.5]\n"
     ]
    }
   ],
   "source": [
    "int_list = [1, 2, 3, 4, 5]\n",
    "\n",
    "string_list = [\"Stanely Kunrick\", \"Andrei tarkovsky\", \"Christopher nolan\"]\n",
    "\n",
    "float_list = [0.1, 0.2, 0.3, 0.4, 0.5]\n",
    "concatenated_list = int_list + string_list + float_list\n",
    "\n",
    "print(int_list)\n",
    "print(string_list)\n",
    "print(float_list)\n",
    "print(concatenated_list)\n",
    "\n"
   ]
  },
  {
   "cell_type": "code",
   "execution_count": 10,
   "id": "9ea18a66",
   "metadata": {},
   "outputs": [
    {
     "data": {
      "text/plain": [
       "'ab'"
      ]
     },
     "execution_count": 10,
     "metadata": {},
     "output_type": "execute_result"
    }
   ],
   "source": [
    "'a'+'b'"
   ]
  },
  {
   "cell_type": "markdown",
   "id": "3faba22a",
   "metadata": {},
   "source": [
    "  **Here, above, we are dealing with string concatenation. The + operator, when used with strings, will concatenate them, meaning it will place them directly next to each other in the order they were combined. The result of \"a\" + \"b\" is the single string \"ab\".**"
   ]
  },
  {
   "cell_type": "code",
   "execution_count": 12,
   "id": "066333fb",
   "metadata": {},
   "outputs": [
    {
     "data": {
      "text/plain": [
       "['a', 'b']"
      ]
     },
     "execution_count": 12,
     "metadata": {},
     "output_type": "execute_result"
    }
   ],
   "source": [
    "['a'] + ['b']"
   ]
  },
  {
   "cell_type": "markdown",
   "id": "cde8829b",
   "metadata": {},
   "source": [
    "**Here, above, the + operator is used with two lists. When we use the + operator with lists, it concatenates the lists by joining them end-to-end to form a new list. The result of ['a'] + ['b'] is a new list with two elements: ['a', 'b'].**"
   ]
  },
  {
   "cell_type": "code",
   "execution_count": 14,
   "id": "2a5ea050",
   "metadata": {},
   "outputs": [
    {
     "name": "stdout",
     "output_type": "stream",
     "text": [
      "['a', 'b']\n"
     ]
    }
   ],
   "source": [
    "# Starting with a list containing one element\n",
    "x = ['a']\n",
    "# Appending another list to it using concatenation\n",
    "x = x + ['b']\n",
    "print(x)\n"
   ]
  },
  {
   "cell_type": "code",
   "execution_count": 17,
   "id": "eb58b30a",
   "metadata": {},
   "outputs": [
    {
     "name": "stdout",
     "output_type": "stream",
     "text": [
      "apple\n",
      "banana\n",
      "cherry\n"
     ]
    }
   ],
   "source": [
    "fruits = [\"apple\", \"orange\", \"jackfruit\"]\n",
    "for fruit in fruits:\n",
    "    print(fruit)\n"
   ]
  },
  {
   "cell_type": "code",
   "execution_count": 20,
   "id": "962f6450",
   "metadata": {},
   "outputs": [
    {
     "name": "stdout",
     "output_type": "stream",
     "text": [
      "a\n",
      "b\n",
      "c\n",
      "d\n",
      "e\n",
      "f\n",
      "g\n",
      "h\n",
      "i\n",
      "j\n",
      "k\n",
      "l\n",
      "m\n",
      "n\n",
      "o\n",
      "p\n",
      "q\n",
      "r\n",
      "s\n",
      "t\n",
      "u\n",
      "v\n",
      "w\n",
      "x\n",
      "y\n",
      "z\n"
     ]
    }
   ],
   "source": [
    "# String containing all letters of the English alphabet\n",
    "alphabet = \"abcdefghijklmnopqrstuvwxyz\"\n",
    "# Loop through each character in the string \n",
    "for letter in alphabet:\n",
    "    print(letter)\n",
    " \n",
    "    "
   ]
  },
  {
   "cell_type": "code",
   "execution_count": 34,
   "id": "a2a1510a",
   "metadata": {},
   "outputs": [
    {
     "ename": "IndentationError",
     "evalue": "unexpected indent (2884187945.py, line 3)",
     "output_type": "error",
     "traceback": [
      "\u001b[1;36m  Cell \u001b[1;32mIn[34], line 3\u001b[1;36m\u001b[0m\n\u001b[1;33m    alpha_list=[]\u001b[0m\n\u001b[1;37m    ^\u001b[0m\n\u001b[1;31mIndentationError\u001b[0m\u001b[1;31m:\u001b[0m unexpected indent\n"
     ]
    }
   ],
   "source": [
    "# String containing all letters of the English alphabet\n",
    "alphabet = \"abcdefghijklmnopqrstuvwxyz\"\n",
    " alpha_list=[]\n",
    " for letter in alphabet:\n",
    " alpha_list= alpha_list+[letter]\n",
    " print(alpha_list)"
   ]
  },
  {
   "cell_type": "code",
   "execution_count": 29,
   "id": "daac10b9",
   "metadata": {},
   "outputs": [
    {
     "name": "stdout",
     "output_type": "stream",
     "text": [
      "['a']\n",
      "['a', 'b']\n",
      "['a', 'b', 'c']\n",
      "['a', 'b', 'c', 'd']\n",
      "['a', 'b', 'c', 'd', 'e']\n",
      "['a', 'b', 'c', 'd', 'e', 'f']\n",
      "['a', 'b', 'c', 'd', 'e', 'f', 'g']\n",
      "['a', 'b', 'c', 'd', 'e', 'f', 'g', 'h']\n",
      "['a', 'b', 'c', 'd', 'e', 'f', 'g', 'h', 'i']\n",
      "['a', 'b', 'c', 'd', 'e', 'f', 'g', 'h', 'i', 'j']\n",
      "['a', 'b', 'c', 'd', 'e', 'f', 'g', 'h', 'i', 'j', 'k']\n",
      "['a', 'b', 'c', 'd', 'e', 'f', 'g', 'h', 'i', 'j', 'k', 'l']\n",
      "['a', 'b', 'c', 'd', 'e', 'f', 'g', 'h', 'i', 'j', 'k', 'l', 'm']\n",
      "['a', 'b', 'c', 'd', 'e', 'f', 'g', 'h', 'i', 'j', 'k', 'l', 'm', 'n']\n",
      "['a', 'b', 'c', 'd', 'e', 'f', 'g', 'h', 'i', 'j', 'k', 'l', 'm', 'n', 'o']\n",
      "['a', 'b', 'c', 'd', 'e', 'f', 'g', 'h', 'i', 'j', 'k', 'l', 'm', 'n', 'o', 'p']\n",
      "['a', 'b', 'c', 'd', 'e', 'f', 'g', 'h', 'i', 'j', 'k', 'l', 'm', 'n', 'o', 'p', 'q']\n",
      "['a', 'b', 'c', 'd', 'e', 'f', 'g', 'h', 'i', 'j', 'k', 'l', 'm', 'n', 'o', 'p', 'q', 'r']\n",
      "['a', 'b', 'c', 'd', 'e', 'f', 'g', 'h', 'i', 'j', 'k', 'l', 'm', 'n', 'o', 'p', 'q', 'r', 's']\n",
      "['a', 'b', 'c', 'd', 'e', 'f', 'g', 'h', 'i', 'j', 'k', 'l', 'm', 'n', 'o', 'p', 'q', 'r', 's', 't']\n",
      "['a', 'b', 'c', 'd', 'e', 'f', 'g', 'h', 'i', 'j', 'k', 'l', 'm', 'n', 'o', 'p', 'q', 'r', 's', 't', 'u']\n",
      "['a', 'b', 'c', 'd', 'e', 'f', 'g', 'h', 'i', 'j', 'k', 'l', 'm', 'n', 'o', 'p', 'q', 'r', 's', 't', 'u', 'v']\n",
      "['a', 'b', 'c', 'd', 'e', 'f', 'g', 'h', 'i', 'j', 'k', 'l', 'm', 'n', 'o', 'p', 'q', 'r', 's', 't', 'u', 'v', 'w']\n",
      "['a', 'b', 'c', 'd', 'e', 'f', 'g', 'h', 'i', 'j', 'k', 'l', 'm', 'n', 'o', 'p', 'q', 'r', 's', 't', 'u', 'v', 'w', 'x']\n",
      "['a', 'b', 'c', 'd', 'e', 'f', 'g', 'h', 'i', 'j', 'k', 'l', 'm', 'n', 'o', 'p', 'q', 'r', 's', 't', 'u', 'v', 'w', 'x', 'y']\n",
      "['a', 'b', 'c', 'd', 'e', 'f', 'g', 'h', 'i', 'j', 'k', 'l', 'm', 'n', 'o', 'p', 'q', 'r', 's', 't', 'u', 'v', 'w', 'x', 'y', 'z']\n"
     ]
    }
   ],
   "source": []
  },
  {
   "cell_type": "markdown",
   "id": "6c903c71",
   "metadata": {},
   "source": [
    "*Looks like something is wrong here, Let's try again.*\n"
   ]
  },
  {
   "cell_type": "code",
   "execution_count": 37,
   "id": "41da1b60",
   "metadata": {},
   "outputs": [
    {
     "name": "stdout",
     "output_type": "stream",
     "text": [
      "['a', 'b', 'c', 'd', 'e', 'f', 'g', 'h', 'i', 'j', 'k', 'l', 'm', 'n', 'o', 'p', 'q', 'r', 's', 't', 'u', 'v', 'w', 'x', 'y', 'z']\n"
     ]
    }
   ],
   "source": [
    "# String containing all letters of the English alphabet\n",
    "alphabet = \"abcdefghijklmnopqrstuvwxyz\"\n",
    "alpha_list = []  # This line should not be indented\n",
    "for letter in alphabet:\n",
    "    alpha_list = alpha_list + [letter]  # This line is correctly indented\n",
    "print(alpha_list)  # This line is correctly indented\n"
   ]
  },
  {
   "cell_type": "code",
   "execution_count": 38,
   "id": "f7d7abf4",
   "metadata": {},
   "outputs": [
    {
     "name": "stdout",
     "output_type": "stream",
     "text": [
      "This \n",
      "This is \n",
      "This is a \n",
      "This is a list \n",
      "This is a list of \n",
      "This is a list of strings. \n",
      "This is a list of strings.\n"
     ]
    }
   ],
   "source": [
    "str_list = [\"This\", \"is\", \"a\", \"list\", \"of\", \"strings.\"]\n",
    "new_string = \"\"\n",
    "\n",
    "for string in str_list:\n",
    "    new_string = new_string + string + \" \"\n",
    "    print(new_string)\n",
    "\n",
    "# Strip the trailing space and print the final result\n",
    "final_string = new_string.strip()\n",
    "print(final_string)\n"
   ]
  },
  {
   "cell_type": "code",
   "execution_count": 39,
   "id": "b782583d",
   "metadata": {},
   "outputs": [
    {
     "name": "stdout",
     "output_type": "stream",
     "text": [
      "5\n",
      "6\n",
      "7\n",
      "8\n",
      "9\n",
      "10\n",
      "11\n",
      "12\n",
      "13\n",
      "14\n",
      "10\n",
      "12\n",
      "14\n",
      "16\n",
      "18\n",
      "[3, 4, 5, 6, 7, 8, 9, 10, 11, 12]\n",
      "range(1, 11)\n"
     ]
    }
   ],
   "source": [
    "# Loop from 5 to 14\n",
    "for i in range(5, 15):\n",
    "    print(i)\n",
    "\n",
    "# Loop from 10 to 19, but increment by 2 each time\n",
    "for i in range(10, 20, 2):\n",
    "    print(i)\n",
    "\n",
    "# Convert a range starting at 3 up to 12 into a list\n",
    "print(list(range(3, 13)))\n",
    "\n",
    "# Create a range object from 1 to 10\n",
    "print(range(1, 11))\n"
   ]
  },
  {
   "cell_type": "code",
   "execution_count": 40,
   "id": "336a371c",
   "metadata": {},
   "outputs": [
    {
     "name": "stdout",
     "output_type": "stream",
     "text": [
      "[1, 3, 5, 7, 9, 11, 13, 15, 17, 19]\n",
      "[1, 5, 9, 13, 17]\n"
     ]
    }
   ],
   "source": [
    "# Use of interval in range()\n",
    "minrange = 1\n",
    "maxrange = 20\n",
    "interval = 2\n",
    "range_list = list(range(minrange, maxrange + 1, interval))\n",
    "print(range_list)  # This will print numbers from 1 to 19 with a step of 2\n",
    "\n",
    "# Use of interval in list slicing\n",
    "print(range_list[::interval])  # This will print every second element from the already stepped list\n"
   ]
  },
  {
   "cell_type": "code",
   "execution_count": 41,
   "id": "fca0e878",
   "metadata": {},
   "outputs": [
    {
     "name": "stdout",
     "output_type": "stream",
     "text": [
      "[-100, -99, -98, -97, -96, -95, -94, -93, -92, -91, -90, -89, -88, -87, -86, -85, -84, -83, -82, -81, -80, -79, -78, -77, -76, -75, -74, -73, -72, -71, -70, -69, -68, -67, -66, -65, -64, -63, -62, -61, -60, -59, -58, -57, -56, -55, -54, -53, -52, -51, -50, -49, -48, -47, -46, -45, -44, -43, -42, -41, -40, -39, -38, -37, -36, -35, -34, -33, -32, -31, -30, -29, -28, -27, -26, -25, -24, -23, -22, -21, -20, -19, -18, -17, -16, -15, -14, -13, -12, -11, -10, -9, -8, -7, -6, -5, -4, -3, -2, -1, 0, 1, 2, 3, 4, 5, 6, 7, 8, 9, 10, 11, 12, 13, 14, 15, 16, 17, 18, 19, 20, 21, 22, 23, 24, 25, 26, 27, 28, 29, 30, 31, 32, 33, 34, 35, 36, 37, 38, 39, 40, 41, 42, 43, 44, 45, 46, 47, 48, 49, 50, 51, 52, 53, 54, 55, 56, 57, 58, 59, 60, 61, 62, 63, 64, 65, 66, 67, 68, 69, 70, 71, 72, 73, 74, 75, 76, 77, 78, 79, 80, 81, 82, 83, 84, 85, 86, 87, 88, 89, 90, 91, 92, 93, 94, 95, 96, 97, 98, 99, 100]\n",
      "[-100, -97, -94, -91, -88, -85, -82, -79, -76, -73, -70, -67, -64, -61, -58, -55, -52, -49, -46, -43, -40, -37, -34, -31, -28, -25, -22, -19, -16, -13, -10, -7, -4, -1, 2, 5, 8, 11, 14, 17, 20, 23, 26, 29, 32, 35, 38, 41, 44, 47, 50, 53, 56, 59, 62, 65, 68, 71, 74, 77, 80, 83, 86, 89, 92, 95, 98]\n"
     ]
    }
   ],
   "source": [
    "minrange = -100\n",
    "maxrange = 100\n",
    "interval = 3\n",
    "range_list = list(range(minrange, maxrange + 1))\n",
    "print(range_list)\n",
    "print(range_list[::interval])\n"
   ]
  },
  {
   "cell_type": "code",
   "execution_count": 43,
   "id": "ed129edf",
   "metadata": {},
   "outputs": [
    {
     "name": "stdout",
     "output_type": "stream",
     "text": [
      "[-10, -9, -8, -7, -6, -5, -4, -3, -2, -1, 0, 1, 2, 3, 4, 5, 6, 7, 8, 9, 10]\n",
      "[171, 136, 105, 78, 55, 36, 21, 10, 3, 0, 1, 6, 15, 28, 45, 66, 91, 120, 153, 190, 231]\n"
     ]
    }
   ],
   "source": [
    "# Define the range\n",
    "minrange = -10\n",
    "maxrange = 10\n",
    "\n",
    "# Generate a list of numbers from minrange to maxrange using list comprehension\n",
    "x = [i for i in range(minrange, maxrange + 1)]\n",
    "print(x)\n",
    "\n",
    "$$y=2x**2+3x+1$$\n",
    "# Apply a quadratic function to each x value using list comprehension\n",
    "y = [2 * x ** 2 + 3 * x + 1 for x in range(minrange, maxrange + 1)]\n",
    "print(y)\n"
   ]
  },
  {
   "cell_type": "markdown",
   "id": "436497d2",
   "metadata": {},
   "source": [
    "$$y=2x^2+3x+1$$"
   ]
  },
  {
   "cell_type": "code",
   "execution_count": 65,
   "id": "4f13652e",
   "metadata": {},
   "outputs": [
    {
     "name": "stdout",
     "output_type": "stream",
     "text": [
      "[-10, -9, -8, -7, -6, -5, -4, -3, -2, -1, 0, 1, 2, 3, 4, 5, 6, 7, 8, 9, 10]\n",
      "[171, 136, 105, 78, 55, 36, 21, 10, 3, 0, 1, 6, 15, 28, 45, 66, 91, 120, 153, 190, 231]\n",
      "[(-10, 171), (-9, 136), (-8, 105), (-7, 78), (-6, 55), (-5, 36), (-4, 21), (-3, 10), (-2, 3), (-1, 0), (0, 1), (1, 6), (2, 15), (3, 28), (4, 45), (5, 66), (6, 91), (7, 120), (8, 153), (9, 190), (10, 231)]\n"
     ]
    }
   ],
   "source": [
    "# Generate list values according to an equation: y = 2x^2 + 3x + 1\n",
    "x_list = [x for x in range(minrange, maxrange + 1)]\n",
    "y = [2 * x ** 2 + 3 * x + 1 for x in x_list]\n",
    "\n",
    "# Print the x and y values\n",
    "print(x_list)\n",
    "print(y)\n",
    "\n",
    "# Zip the x and y lists to create a single list of tuples of the form: (x, y)\n",
    "xy_pairs = list(zip(x_list, y))\n",
    "\n",
    "# Print the list of (x, y) pairs\n",
    "print(xy_pairs)\n"
   ]
  },
  {
   "cell_type": "code",
   "execution_count": 53,
   "id": "ec3297fa",
   "metadata": {},
   "outputs": [
    {
     "data": {
      "text/plain": [
       "[<matplotlib.lines.Line2D at 0x217f1047950>]"
      ]
     },
     "execution_count": 53,
     "metadata": {},
     "output_type": "execute_result"
    },
    {
     "data": {
      "image/png": "[encoded data removed]",
      "text/plain": [
       "<Figure size 640x480 with 1 Axes>"
      ]
     },
     "metadata": {},
     "output_type": "display_data"
    }
   ],
   "source": [
    "import matplotlib.pyplot as plt\n",
    "plt.plot(y)\n"
   ]
  },
  {
   "cell_type": "markdown",
   "id": "996902cf",
   "metadata": {},
   "source": [
    "# Generator"
   ]
  },
  {
   "cell_type": "code",
   "execution_count": 57,
   "id": "ea3d9aee",
   "metadata": {},
   "outputs": [
    {
     "data": {
      "text/plain": [
       "<matplotlib.collections.PathCollection at 0x217f142f3d0>"
      ]
     },
     "execution_count": 57,
     "metadata": {},
     "output_type": "execute_result"
    },
    {
     "data": {
      "image/png": "[encoded data removed]",
      "text/plain": [
       "<Figure size 640x480 with 1 Axes>"
      ]
     },
     "metadata": {},
     "output_type": "display_data"
    }
   ],
   "source": [
    "import random\n",
    "import matplotlib.pyplot as plt\n",
    "\n",
    "# Define the range for random integer generation\n",
    "minrange = -10\n",
    "maxrange = 10\n",
    "\n",
    "# Generate a list of random integers for the y-axis\n",
    "y = [random.randint(minrange, maxrange) for _ in range(100)]\n",
    "\n",
    "# Generate a list of numbers from 0 to 99 for the x-axis\n",
    "x = list(range(100))\n",
    "\n",
    "# Plot the points\n",
    "plt.scatter(x,y)  \n",
    "\n"
   ]
  },
  {
   "cell_type": "code",
   "execution_count": 61,
   "id": "52fef71c",
   "metadata": {},
   "outputs": [
    {
     "name": "stdout",
     "output_type": "stream",
     "text": [
      "[-10, -9, -8, -7, -6, -5, -4, -3, -2, -1, 0, 1, 2, 3, 4, 5, 6, 7, 8, 9, 10]\n",
      "[171, 136, 105, 78, 55, 36, 21, 10, 3, 0, 1, 6, 15, 28, 45, 66, 91, 120, 153, 190, 231]\n",
      "[(-10, 171), (-9, 136), (-8, 105), (-7, 78), (-6, 55), (-5, 36), (-4, 21), (-3, 10), (-2, 3), (-1, 0), (0, 1), (1, 6), (2, 15), (3, 28), (4, 45), (5, 66), (6, 91), (7, 120), (8, 153), (9, 190), (10, 231)]\n"
     ]
    }
   ],
   "source": []
  },
  {
   "cell_type": "markdown",
   "id": "cd16bc3b",
   "metadata": {},
   "source": [
    "## Managing List by index"
   ]
  },
  {
   "cell_type": "code",
   "execution_count": 67,
   "id": "8480f773",
   "metadata": {},
   "outputs": [
    {
     "data": {
      "text/plain": [
       "[-10, -9, -8, -7, -6, -5, -4, -3, -2, -1, 0, 1, 2, 3, 4, 5, 6, 7, 8, 9, 10]"
      ]
     },
     "execution_count": 67,
     "metadata": {},
     "output_type": "execute_result"
    }
   ],
   "source": [
    "x_list"
   ]
  },
  {
   "cell_type": "code",
   "execution_count": 69,
   "id": "7ec518cf",
   "metadata": {},
   "outputs": [
    {
     "data": {
      "text/plain": [
       "[171,\n",
       " 136,\n",
       " 105,\n",
       " 78,\n",
       " 55,\n",
       " 36,\n",
       " 21,\n",
       " 10,\n",
       " 3,\n",
       " 0,\n",
       " 1,\n",
       " 6,\n",
       " 15,\n",
       " 28,\n",
       " 45,\n",
       " 66,\n",
       " 91,\n",
       " 120,\n",
       " 153,\n",
       " 190,\n",
       " 231]"
      ]
     },
     "execution_count": 69,
     "metadata": {},
     "output_type": "execute_result"
    }
   ],
   "source": [
    "y"
   ]
  },
  {
   "cell_type": "markdown",
   "id": "b054f973",
   "metadata": {},
   "source": [
    "### Code to print lengths of x_list and y"
   ]
  },
  {
   "cell_type": "code",
   "execution_count": 70,
   "id": "6221801d",
   "metadata": {},
   "outputs": [
    {
     "data": {
      "text/plain": [
       "(21, 21)"
      ]
     },
     "execution_count": 70,
     "metadata": {},
     "output_type": "execute_result"
    }
   ],
   "source": [
    "len(x_list), len(y)"
   ]
  },
  {
   "cell_type": "code",
   "execution_count": 75,
   "id": "f103a352",
   "metadata": {},
   "outputs": [
    {
     "name": "stdout",
     "output_type": "stream",
     "text": [
      "x\ty\n",
      "-10\t171\n",
      "-9\t136\n",
      "-8\t105\n",
      "-7\t78\n",
      "-6\t55\n",
      "-5\t36\n",
      "-4\t21\n",
      "-3\t10\n",
      "-2\t3\n",
      "-1\t0\n",
      "0\t1\n",
      "1\t6\n",
      "2\t15\n",
      "3\t28\n",
      "4\t45\n",
      "5\t66\n",
      "6\t91\n",
      "7\t120\n",
      "8\t153\n",
      "9\t190\n",
      "10\t231\n"
     ]
    }
   ],
   "source": [
    "print(\"x\", \"y\", sep='\\t')\n",
    "# The loop to print corresponding elements of x_list and y:\n",
    "for i in range(len(x_list)):\n",
    "    print(x_list[i], y[i], sep='\\t')\n"
   ]
  },
  {
   "cell_type": "code",
   "execution_count": 82,
   "id": "e0de2b23",
   "metadata": {},
   "outputs": [
    {
     "name": "stdout",
     "output_type": "stream",
     "text": [
      "y\tx\ty/(x+100)\n",
      "171\t-10\t1.9\n",
      "136\t-9\t1.4945054945054945\n",
      "105\t-8\t1.141304347826087\n",
      "78\t-7\t0.8387096774193549\n",
      "55\t-6\t0.5851063829787234\n",
      "36\t-5\t0.37894736842105264\n",
      "21\t-4\t0.21875\n",
      "10\t-3\t0.10309278350515463\n",
      "3\t-2\t0.030612244897959183\n",
      "0\t-1\t0.0\n",
      "1\t0\t0.01\n",
      "6\t1\t0.0594059405940594\n",
      "15\t2\t0.14705882352941177\n",
      "28\t3\t0.27184466019417475\n",
      "45\t4\t0.4326923076923077\n",
      "66\t5\t0.6285714285714286\n",
      "91\t6\t0.8584905660377359\n",
      "120\t7\t1.1214953271028036\n",
      "153\t8\t1.4166666666666667\n",
      "190\t9\t1.7431192660550459\n",
      "231\t10\t2.1\n"
     ]
    }
   ],
   "source": [
    "print(\"y\", \"x\", \"y/(x+100)\", sep=\"\\t\")\n",
    "for i in range(len(x_list)):\n",
    "    print(y[i], x_list[i], y[i] / (x_list[i] + 100), sep=\"\\t\")\n"
   ]
  },
  {
   "cell_type": "markdown",
   "id": "f1c7b357",
   "metadata": {},
   "source": [
    "## Deleting the first ith number in a list"
   ]
  },
  {
   "cell_type": "code",
   "execution_count": 83,
   "id": "4ba99872",
   "metadata": {},
   "outputs": [
    {
     "name": "stdout",
     "output_type": "stream",
     "text": [
      "[-10, -9, -8, -7, -6, -5, -4, -3, -2, -1, 0, 1, 2, 3, 4, 5, 6, 7, 8, 9, 10]\n",
      "[171, 136, 105, 78, 55, 36, 21, 10, 3, 0, 1, 6, 15, 28, 45, 66, 91, 120, 153, 190, 231]\n",
      "[-9, -8, -7, -6, -5, -4, -3, -2, -1, 0, 1, 2, 3, 4, 5, 6, 7, 8, 9, 10]\n",
      "[136, 105, 78, 55, 36, 21, 10, 3, 0, 1, 6, 15, 28, 45, 66, 91, 120, 153, 190, 231]\n",
      "[-9, -8, -7, -6, -5, -4, -3, -2, -1, 0, 1, 2, 3, 4, 5, 6, 7, 8, 9]\n",
      "[136, 105, 78, 55, 36, 21, 10, 3, 0, 1, 6, 15, 28, 45, 66, 91, 120, 153, 190]\n"
     ]
    }
   ],
   "source": [
    "# Print the original lists\n",
    "print(x_list)\n",
    "print(y)\n",
    "\n",
    "# Delete the very first (0th) element in x_list and y\n",
    "del x_list[0]\n",
    "del y[0]\n",
    "\n",
    "# Print the lists after deleting the first element\n",
    "print(x_list)\n",
    "print(y)\n",
    "\n",
    "# Delete the very last (-1) element in x_list and y\n",
    "del x_list[-1]\n",
    "del y[-1]\n",
    "\n",
    "# Print the lists after deleting the last element\n",
    "print(x_list)\n",
    "print(y)\n"
   ]
  },
  {
   "cell_type": "markdown",
   "id": "1ded3e8c",
   "metadata": {},
   "source": [
    "## Sorting"
   ]
  },
  {
   "cell_type": "code",
   "execution_count": 84,
   "id": "599267fa",
   "metadata": {},
   "outputs": [
    {
     "name": "stdout",
     "output_type": "stream",
     "text": [
      "[7, 2, 10, 2, 4, 9, 9, 9, 7, 6, 4, 7, 6, 5, 7, 5, 2, 2, 7, 5, 2, 7, 4, 0, 9, 4, 0, 10, 3, 3, 8, 8, 2, 9, 0, 7, 2, 1, 6, 9, 4, 0, 4, 6, 7, 2, 4, 2, 5, 2, 6, 7, 10, 7, 5, 7, 9, 9, 3, 10, 7, 7, 5, 3, 2, 2, 9, 5, 6, 2, 0, 5, 9, 1, 3, 2, 5, 6, 6, 10, 4, 8, 8, 6, 4, 3, 10, 5, 10, 9, 5, 4, 5, 5, 7, 8, 5, 7, 3, 7]\n",
      "[0, 0, 0, 0, 0, 1, 1, 2, 2, 2, 2, 2, 2, 2, 2, 2, 2, 2, 2, 2, 2, 3, 3, 3, 3, 3, 3, 3, 4, 4, 4, 4, 4, 4, 4, 4, 4, 4, 5, 5, 5, 5, 5, 5, 5, 5, 5, 5, 5, 5, 5, 5, 6, 6, 6, 6, 6, 6, 6, 6, 6, 7, 7, 7, 7, 7, 7, 7, 7, 7, 7, 7, 7, 7, 7, 7, 7, 8, 8, 8, 8, 8, 9, 9, 9, 9, 9, 9, 9, 9, 9, 9, 9, 10, 10, 10, 10, 10, 10, 10]\n",
      "[10, 10, 10, 10, 10, 10, 10, 9, 9, 9, 9, 9, 9, 9, 9, 9, 9, 9, 8, 8, 8, 8, 8, 7, 7, 7, 7, 7, 7, 7, 7, 7, 7, 7, 7, 7, 7, 7, 7, 6, 6, 6, 6, 6, 6, 6, 6, 6, 5, 5, 5, 5, 5, 5, 5, 5, 5, 5, 5, 5, 5, 5, 4, 4, 4, 4, 4, 4, 4, 4, 4, 4, 3, 3, 3, 3, 3, 3, 3, 2, 2, 2, 2, 2, 2, 2, 2, 2, 2, 2, 2, 2, 2, 1, 1, 0, 0, 0, 0, 0]\n",
      "None\n",
      "[10, 10, 10, 10, 10, 10, 10, 9, 9, 9, 9, 9, 9, 9, 9, 9, 9, 9, 8, 8, 8, 8, 8, 7, 7, 7, 7, 7, 7, 7, 7, 7, 7, 7, 7, 7, 7, 7, 7, 6, 6, 6, 6, 6, 6, 6, 6, 6, 5, 5, 5, 5, 5, 5, 5, 5, 5, 5, 5, 5, 5, 5, 4, 4, 4, 4, 4, 4, 4, 4, 4, 4, 3, 3, 3, 3, 3, 3, 3, 2, 2, 2, 2, 2, 2, 2, 2, 2, 2, 2, 2, 2, 2, 1, 1, 0, 0, 0, 0, 0]\n",
      "[10, 10, 10, 10, 10, 10, 10, 9, 9, 9, 9, 9, 9, 9, 9, 9, 9, 9, 8, 8, 8, 8, 8, 7, 7, 7, 7, 7, 7, 7, 7, 7, 7, 7, 7, 7, 7, 7, 7, 6, 6, 6, 6, 6, 6, 6, 6, 6, 5, 5, 5, 5, 5, 5, 5, 5, 5, 5, 5, 5, 5, 5, 4, 4, 4, 4, 4, 4, 4, 4, 4, 4, 3, 3, 3, 3, 3, 3, 3, 2, 2, 2, 2, 2, 2, 2, 2, 2, 2, 2, 2, 2, 2, 1, 1, 0, 0, 0, 0, 0]\n",
      "['a', 'c', 'd', 'e', 'e', 'h', 'i', 'j', 'l', 'n', 'p', 't', 'u']\n",
      "['u', 't', 'p', 'n', 'l', 'j', 'i', 'h', 'e', 'e', 'd', 'c', 'a']\n"
     ]
    }
   ],
   "source": [
    "# Generate a list of random integers between 0 and 10\n",
    "x = [random.randint(0, 10) for i in range(100)]\n",
    "print(x)\n",
    "\n",
    "# Sort the list in ascending order and print it\n",
    "print(sorted(x))\n",
    "\n",
    "# Sort the list in descending order and print it\n",
    "print(sorted(x, reverse=True))\n",
    "\n",
    "# Sort the list in descending order using slicing and print it\n",
    "print(x.sort(reverse=True))\n",
    "print(x)\n",
    "\n",
    "# Sort the list in descending order using negative slicing and print it\n",
    "print(sorted(x)[::-1])\n",
    "\n",
    "# Generate a list of characters and sort in ascending order\n",
    "print(sorted(\"chadepiteljnu\"))\n",
    "\n",
    "# Sort the list of characters in descending order and print it\n",
    "print(sorted(\"chadepiteljnu\", reverse = True))\n"
   ]
  },
  {
   "cell_type": "markdown",
   "id": "0a179f81",
   "metadata": {},
   "source": [
    "## Slicing the list"
   ]
  },
  {
   "cell_type": "code",
   "execution_count": 86,
   "id": "528d26be",
   "metadata": {},
   "outputs": [
    {
     "name": "stdout",
     "output_type": "stream",
     "text": [
      "[10, 10, 10, 10, 10, 10, 10, 9, 9, 9, 9, 9, 9, 9, 9, 9, 9, 9, 8, 8, 8, 8, 8, 7, 7, 7, 7, 7, 7, 7, 7, 7, 7, 7, 7, 7, 7, 7, 7, 6, 6, 6, 6, 6, 6, 6, 6, 6, 5, 5, 5, 5, 5, 5, 5, 5, 5, 5, 5, 5, 5, 5, 4, 4, 4, 4, 4, 4, 4, 4, 4, 4, 3, 3, 3, 3, 3, 3, 3, 2, 2, 2, 2, 2, 2, 2, 2, 2, 2, 2, 2, 2, 2, 1, 1, 0, 0, 0, 0, 0]\n",
      "[10, 10, 10, 10, 9, 9, 9, 9, 9, 8, 8, 8, 7, 7, 7, 7, 7, 7, 7, 7, 6, 6, 6, 6, 5, 5, 5, 5, 5, 5, 5, 4, 4, 4, 4, 4, 3, 3, 3, 3, 2, 2, 2, 2, 2, 2, 2, 1, 0, 0]\n",
      "[10, 10, 10, 10, 10, 10, 10, 9, 9, 9]\n",
      "[2, 2, 2, 1, 1, 0, 0, 0, 0, 0]\n"
     ]
    }
   ],
   "source": [
    "# Print the original list 'x'\n",
    "print(x)\n",
    "\n",
    "# Correct format for slicing - print every second element of 'x'\n",
    "print(x[::2])\n",
    "\n",
    "# Print the first 10 values of 'x' (from index 0 to 9)\n",
    "print(x[:10])\n",
    "\n",
    "# Print the last 10 values of 'x' (from index -10 to the end)\n",
    "print(x[-10:])\n"
   ]
  },
  {
   "cell_type": "markdown",
   "id": "df70a585",
   "metadata": {},
   "source": [
    "## Cutting a list half"
   ]
  },
  {
   "cell_type": "code",
   "execution_count": 87,
   "id": "9cdbbb1d",
   "metadata": {},
   "outputs": [],
   "source": [
    "midpoint = len(x) // 2 "
   ]
  },
  {
   "cell_type": "code",
   "execution_count": 88,
   "id": "2a097a5a",
   "metadata": {},
   "outputs": [],
   "source": [
    "first_half = x[:midpoint]"
   ]
  },
  {
   "cell_type": "code",
   "execution_count": 89,
   "id": "56609247",
   "metadata": {},
   "outputs": [],
   "source": [
    "second_half = x[midpoint:]"
   ]
  },
  {
   "cell_type": "code",
   "execution_count": 90,
   "id": "b2071b35",
   "metadata": {},
   "outputs": [
    {
     "name": "stdout",
     "output_type": "stream",
     "text": [
      "First half: [10, 10, 10, 10, 10, 10, 10, 9, 9, 9, 9, 9, 9, 9, 9, 9, 9, 9, 8, 8, 8, 8, 8, 7, 7, 7, 7, 7, 7, 7, 7, 7, 7, 7, 7, 7, 7, 7, 7, 6, 6, 6, 6, 6, 6, 6, 6, 6, 5, 5]\n",
      "Second half: [5, 5, 5, 5, 5, 5, 5, 5, 5, 5, 5, 5, 4, 4, 4, 4, 4, 4, 4, 4, 4, 4, 3, 3, 3, 3, 3, 3, 3, 2, 2, 2, 2, 2, 2, 2, 2, 2, 2, 2, 2, 2, 2, 1, 1, 0, 0, 0, 0, 0]\n"
     ]
    }
   ],
   "source": [
    "print(\"First half:\", first_half)\n",
    "print(\"Second half:\", second_half)"
   ]
  },
  {
   "cell_type": "code",
   "execution_count": 91,
   "id": "4fb77d8a",
   "metadata": {},
   "outputs": [
    {
     "name": "stdout",
     "output_type": "stream",
     "text": [
      "i j i+j\n",
      "0 0 0\n",
      "0 1 1\n",
      "0 2 2\n",
      "1 0 1\n",
      "1 1 2\n",
      "1 2 3\n",
      "2 0 2\n",
      "2 1 3\n",
      "2 2 4\n"
     ]
    }
   ],
   "source": [
    "print(\"i\", \"j\", \"i+j\")\n",
    "for i in range(3):\n",
    "    for j in range(3):\n",
    "        print(i, j, i + j)\n"
   ]
  },
  {
   "cell_type": "code",
   "execution_count": null,
   "id": "66e95f18",
   "metadata": {},
   "outputs": [],
   "source": []
  }
 ],
 "metadata": {
  "kernelspec": {
   "display_name": "Python 3 (ipykernel)",
   "language": "python",
   "name": "python3"
  },
  "language_info": {
   "codemirror_mode": {
    "name": "ipython",
    "version": 3
   },
   "file_extension": ".py",
   "mimetype": "text/x-python",
   "name": "python",
   "nbconvert_exporter": "python",
   "pygments_lexer": "ipython3",
   "version": "3.11.5"
  }
 },
 "nbformat": 4,
 "nbformat_minor": 5
}
