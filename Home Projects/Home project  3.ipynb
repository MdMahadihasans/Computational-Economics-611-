{
 "cells": [
  {
   "cell_type": "markdown",
   "id": "95f91d47",
   "metadata": {},
   "source": [
    "1. Create a list of random numbers between 0 and 100 whose length is 1000. (Hint: import random; search \"python random\" to learn more about the library.)"
   ]
  },
  {
   "cell_type": "code",
   "execution_count": 1,
   "id": "34c1ccaa",
   "metadata": {},
   "outputs": [],
   "source": [
    "import random\n",
    "\n",
    "# Create a list of 1000 random numbers between 0 and 100\n",
    "random_numbers = [random.randint(0, 100) for _ in range(1000)]\n"
   ]
  },
  {
   "cell_type": "markdown",
   "id": "f1decc65",
   "metadata": {},
   "source": [
    "2. Use the variance function from the textbook to find the variance of this list. Assume that the list represent a population in whole."
   ]
  },
  {
   "cell_type": "code",
   "execution_count": 2,
   "id": "52f7d994",
   "metadata": {},
   "outputs": [],
   "source": [
    "def variance(lst, sample=False):\n",
    "    n = len(lst)\n",
    "    mean = sum(lst) / n\n",
    "    return sum((x - mean) ** 2 for x in lst) / n\n"
   ]
  },
  {
   "cell_type": "code",
   "execution_count": 3,
   "id": "0801fb4d",
   "metadata": {},
   "outputs": [
    {
     "data": {
      "text/plain": [
       "855.6565190000001"
      ]
     },
     "execution_count": 3,
     "metadata": {},
     "output_type": "execute_result"
    }
   ],
   "source": [
    "# Calculate the variance assuming the list is a population\n",
    "population_variance = variance(random_numbers, sample=False)\n",
    "\n",
    "population_variance"
   ]
  },
  {
   "cell_type": "markdown",
   "id": "5b433e0a",
   "metadata": {},
   "source": [
    "3. Create a 9 more lists of the same length whose elements are random numbers between 0 and 100. Use a nested dictionary to house and identify these lists. Keys for the first layer should be the numbers 1 through 10. Lists should be stored using a second key as follows: dict_name[index][\"list\"]. Index represents the particular integer key between 1 and 10 as noted above."
   ]
  },
  {
   "cell_type": "code",
   "execution_count": 4,
   "id": "3c0f7606",
   "metadata": {},
   "outputs": [],
   "source": [
    "import random\n",
    "\n",
    "# Create a nested dictionary with 10 lists of random numbers\n",
    "random_lists_dict = {i: {'list': [random.randint(0, 100) for _ in range(1000)]} for i in range(1, 11)}\n"
   ]
  },
  {
   "cell_type": "markdown",
   "id": "9b19e913",
   "metadata": {},
   "source": [
    "4. Find the variance of each list and store it as follows: dict_name[index][\"variance\"]."
   ]
  },
  {
   "cell_type": "code",
   "execution_count": 18,
   "id": "ad8a4865",
   "metadata": {},
   "outputs": [
    {
     "name": "stdout",
     "output_type": "stream",
     "text": [
      "Variance of list 1: 853.6835160000003\n",
      "Variance of list 2: 801.5077559999997\n",
      "Variance of list 3: 833.1137109999991\n",
      "Variance of list 4: 836.927644000001\n",
      "Variance of list 5: 857.3990040000012\n",
      "Variance of list 6: 870.1134790000006\n",
      "Variance of list 7: 884.3014790000008\n",
      "Variance of list 8: 811.1499589999983\n",
      "Variance of list 9: 834.5470709999988\n",
      "Variance of list 10: 880.0144639999992\n"
     ]
    }
   ],
   "source": [
    "\n",
    "for i in random_lists_dict.keys():\n",
    "    # Calculate the variance for the current list\n",
    "    var = variance(random_lists_dict[i]['list'], sample=False)\n",
    "    # Store the variance in the dictionary under the key 'variance'\n",
    "    random_lists_dict[i]['variance'] = var\n",
    "    # Print the variance\n",
    "    print(f\"Variance of list {i}: {var}\")\n"
   ]
  },
  {
   "cell_type": "markdown",
   "id": "611f54d1",
   "metadata": {},
   "source": [
    "5. At the end of chapter 2, we used for loops to find min and max values. Create a min() function and max() function and pass the values from the list in question 1 to each of these to determine the min and max values in that list."
   ]
  },
  {
   "cell_type": "code",
   "execution_count": 9,
   "id": "6473a017",
   "metadata": {},
   "outputs": [
    {
     "name": "stdout",
     "output_type": "stream",
     "text": [
      "The minimum value in the list is: 0\n",
      "The maximum value in the list is: 100\n"
     ]
    }
   ],
   "source": [
    "# Define a function to find the minimum value in a list\n",
    "def find_min(lst):\n",
    "    # Start with the first element as the minimum\n",
    "    minimum = lst[0]\n",
    "    # Iterate over all elements in the list\n",
    "    for value in lst:\n",
    "        # If the current value is less than the current minimum, update the minimum\n",
    "        if value < minimum:\n",
    "            minimum = value\n",
    "    # Return the smallest value found\n",
    "    return minimum\n",
    "\n",
    "# Define a function to find the maximum value in a list\n",
    "def find_max(lst):\n",
    "    # Start with the first element as the maximum\n",
    "    maximum = lst[0]\n",
    "    # Iterate over all elements in the list\n",
    "    for value in lst:\n",
    "        # If the current value is greater than the current maximum, update the maximum\n",
    "        if value > maximum:\n",
    "            maximum = value\n",
    "    # Return the largest value found\n",
    "    return maximum\n",
    "min_value = find_min(random_numbers)\n",
    "# Use the custom max function to find the maximum value\n",
    "max_value = find_max(random_numbers)\n",
    "\n",
    "print(f\"The minimum value in the list is: {min_value}\")\n",
    "print(f\"The maximum value in the list is: {max_value}\")\n"
   ]
  },
  {
   "cell_type": "markdown",
   "id": "acb2dffd",
   "metadata": {},
   "source": [
    "6. Explain why it might be advantageous to create a function instead of building all commands from scratch as you create a script."
   ]
  },
  {
   "cell_type": "markdown",
   "id": "3cf7b874",
   "metadata": {},
   "source": [
    "**Creating functions in our scripts is like having a set of handy tools, we make them once and then reuse them as needed, which saves time and avoids repetition. Functions also help us organize our codes better, making it clearer and easier to read. In addition, if we need to make a change to a repeated action, we can do it in just one spot within the function, rather than hunting through lines of code to find every instance.**"
   ]
  },
  {
   "cell_type": "markdown",
   "id": "b3a691f0",
   "metadata": {},
   "source": [
    "7. Use ChatGPT to transform any of the functions that generate outputs using matplotlib to interactive charts using plotly."
   ]
  },
  {
   "cell_type": "code",
   "execution_count": 10,
   "id": "60927b68",
   "metadata": {},
   "outputs": [
    {
     "name": "stdout",
     "output_type": "stream",
     "text": [
      "Requirement already satisfied: plotly in c:\\users\\hkmah\\anaconda3\\lib\\site-packages (5.9.0)\n",
      "Requirement already satisfied: tenacity>=6.2.0 in c:\\users\\hkmah\\anaconda3\\lib\\site-packages (from plotly) (8.2.2)\n",
      "Note: you may need to restart the kernel to use updated packages.\n"
     ]
    }
   ],
   "source": [
    "pip install plotly\n"
   ]
  },
  {
   "cell_type": "code",
   "execution_count": 14,
   "id": "0cc2ebca",
   "metadata": {},
   "outputs": [],
   "source": [
    "import random\n",
    "\n",
    "# Define X2 with random numbers\n",
    "X2 = [random.randint(0, 100) for _ in range(1000)]\n",
    "\n",
    "# The rest of your plotting code would follow here...\n"
   ]
  },
  {
   "cell_type": "code",
   "execution_count": 17,
   "id": "d33732e8",
   "metadata": {},
   "outputs": [
    {
     "data": {
      "text/html": [
       "        <script type=\"text/javascript\">\n",
       "        window.PlotlyConfig = {MathJaxConfig: 'local'};\n",
       "        if (window.MathJax && window.MathJax.Hub && window.MathJax.Hub.Config) {window.MathJax.Hub.Config({SVG: {font: \"STIX-Web\"}});}\n",
       "        if (typeof require !== 'undefined') {\n",
       "        require.undef(\"plotly\");\n",
       "        requirejs.config({\n",
       "            paths: {\n",
       "                'plotly': ['https://cdn.plot.ly/plotly-2.12.1.min']\n",
       "            }\n",
       "        });\n",
       "        require(['plotly'], function(Plotly) {\n",
       "            window._Plotly = Plotly;\n",
       "        });\n",
       "        }\n",
       "        </script>\n",
       "        "
      ]
     },
     "metadata": {},
     "output_type": "display_data"
    },
    {
     "data": {
      "application/vnd.plotly.v1+json": {
       "config": {
        "linkText": "Export to plot.ly",
        "plotlyServerURL": "https://plot.ly",
        "showLink": false
       },
       "data": [
        {
         "marker": {
          "size": 10
         },
         "mode": "markers",
         "type": "scatter",
         "y": [
          99,
          60,
          5,
          86,
          28,
          65,
          18,
          24,
          20,
          69,
          56,
          76,
          50,
          87,
          20,
          85,
          21,
          3,
          39,
          28,
          58,
          30,
          32,
          47,
          80,
          16,
          53,
          44,
          11,
          88,
          76,
          31,
          79,
          59,
          29,
          3,
          54,
          84,
          29,
          69,
          41,
          56,
          68,
          91,
          35,
          80,
          95,
          21,
          10,
          93,
          89,
          51,
          80,
          27,
          23,
          92,
          34,
          17,
          96,
          83,
          69,
          35,
          2,
          16,
          13,
          18,
          62,
          42,
          10,
          20,
          56,
          78,
          42,
          84,
          68,
          45,
          57,
          61,
          9,
          72,
          35,
          2,
          99,
          89,
          93,
          4,
          62,
          36,
          81,
          80,
          35,
          82,
          83,
          33,
          63,
          76,
          15,
          53,
          42,
          13,
          25,
          99,
          97,
          35,
          85,
          97,
          22,
          7,
          41,
          11,
          48,
          68,
          36,
          65,
          93,
          36,
          35,
          25,
          97,
          7,
          16,
          98,
          26,
          96,
          98,
          10,
          91,
          69,
          83,
          58,
          33,
          95,
          51,
          54,
          85,
          12,
          54,
          53,
          48,
          21,
          59,
          14,
          39,
          40,
          15,
          18,
          85,
          22,
          69,
          26,
          87,
          22,
          0,
          93,
          81,
          56,
          81,
          87,
          92,
          37,
          59,
          55,
          39,
          34,
          83,
          30,
          21,
          99,
          52,
          90,
          28,
          89,
          0,
          62,
          56,
          83,
          17,
          40,
          35,
          18,
          73,
          31,
          79,
          48,
          4,
          40,
          99,
          92,
          85,
          79,
          56,
          30,
          36,
          17,
          74,
          46,
          49,
          4,
          80,
          9,
          45,
          94,
          6,
          40,
          5,
          0,
          18,
          41,
          83,
          19,
          96,
          81,
          60,
          79,
          68,
          5,
          21,
          66,
          45,
          67,
          33,
          55,
          50,
          11,
          70,
          52,
          95,
          40,
          73,
          22,
          24,
          38,
          58,
          11,
          37,
          87,
          22,
          17,
          25,
          72,
          8,
          95,
          26,
          54,
          43,
          98,
          45,
          12,
          51,
          43,
          48,
          96,
          18,
          68,
          76,
          51,
          38,
          79,
          25,
          25,
          67,
          77,
          82,
          22,
          12,
          83,
          51,
          68,
          60,
          61,
          88,
          51,
          41,
          97,
          67,
          50,
          0,
          72,
          32,
          95,
          33,
          79,
          62,
          0,
          63,
          74,
          87,
          8,
          64,
          93,
          27,
          58,
          46,
          97,
          35,
          66,
          92,
          24,
          56,
          6,
          53,
          26,
          72,
          62,
          41,
          64,
          67,
          37,
          45,
          94,
          89,
          95,
          76,
          31,
          87,
          74,
          99,
          71,
          72,
          37,
          5,
          23,
          9,
          92,
          60,
          94,
          89,
          30,
          91,
          70,
          34,
          4,
          67,
          63,
          34,
          84,
          31,
          55,
          52,
          73,
          91,
          0,
          90,
          65,
          20,
          55,
          35,
          53,
          98,
          22,
          59,
          95,
          27,
          6,
          9,
          90,
          15,
          8,
          94,
          2,
          93,
          5,
          61,
          63,
          63,
          84,
          6,
          35,
          39,
          97,
          97,
          96,
          44,
          42,
          84,
          91,
          8,
          3,
          94,
          33,
          90,
          8,
          2,
          13,
          12,
          72,
          38,
          98,
          62,
          70,
          13,
          46,
          95,
          93,
          70,
          23,
          7,
          43,
          24,
          85,
          66,
          64,
          58,
          90,
          71,
          93,
          10,
          10,
          29,
          79,
          53,
          20,
          25,
          90,
          4,
          21,
          62,
          33,
          83,
          77,
          68,
          56,
          78,
          93,
          21,
          48,
          36,
          23,
          36,
          15,
          19,
          44,
          30,
          10,
          59,
          45,
          42,
          22,
          94,
          55,
          21,
          13,
          0,
          84,
          100,
          83,
          100,
          22,
          18,
          26,
          58,
          47,
          78,
          86,
          43,
          80,
          26,
          27,
          94,
          89,
          6,
          47,
          13,
          37,
          28,
          43,
          93,
          86,
          7,
          85,
          0,
          36,
          72,
          96,
          60,
          34,
          92,
          100,
          11,
          40,
          23,
          97,
          19,
          3,
          74,
          87,
          100,
          8,
          99,
          73,
          73,
          2,
          97,
          41,
          37,
          9,
          96,
          90,
          69,
          15,
          22,
          15,
          16,
          82,
          38,
          96,
          26,
          55,
          80,
          11,
          95,
          36,
          54,
          13,
          62,
          84,
          34,
          42,
          40,
          46,
          38,
          23,
          25,
          58,
          50,
          34,
          97,
          51,
          26,
          49,
          43,
          82,
          82,
          3,
          19,
          40,
          71,
          5,
          68,
          16,
          35,
          36,
          14,
          61,
          57,
          15,
          98,
          20,
          71,
          33,
          97,
          34,
          66,
          82,
          97,
          43,
          59,
          20,
          13,
          64,
          13,
          48,
          98,
          26,
          68,
          72,
          60,
          1,
          71,
          41,
          45,
          25,
          8,
          0,
          87,
          75,
          15,
          51,
          12,
          14,
          1,
          36,
          40,
          44,
          32,
          36,
          8,
          63,
          89,
          43,
          85,
          70,
          52,
          21,
          68,
          61,
          54,
          0,
          13,
          4,
          5,
          60,
          6,
          100,
          42,
          57,
          49,
          16,
          99,
          73,
          15,
          55,
          94,
          59,
          60,
          65,
          100,
          47,
          51,
          13,
          54,
          66,
          40,
          5,
          75,
          2,
          91,
          43,
          55,
          69,
          12,
          89,
          57,
          83,
          67,
          81,
          34,
          89,
          40,
          9,
          97,
          60,
          2,
          59,
          36,
          62,
          22,
          2,
          11,
          70,
          5,
          58,
          51,
          10,
          60,
          53,
          98,
          17,
          74,
          26,
          0,
          100,
          36,
          31,
          27,
          65,
          18,
          99,
          21,
          66,
          33,
          83,
          98,
          88,
          95,
          91,
          73,
          4,
          80,
          43,
          74,
          54,
          33,
          59,
          46,
          74,
          88,
          25,
          4,
          73,
          15,
          11,
          1,
          93,
          24,
          36,
          13,
          72,
          57,
          27,
          92,
          83,
          45,
          28,
          4,
          81,
          96,
          46,
          8,
          20,
          15,
          97,
          12,
          13,
          14,
          42,
          56,
          25,
          49,
          92,
          11,
          15,
          52,
          80,
          14,
          9,
          63,
          71,
          39,
          23,
          82,
          20,
          82,
          46,
          9,
          80,
          20,
          20,
          96,
          80,
          51,
          0,
          99,
          87,
          1,
          45,
          89,
          61,
          74,
          5,
          0,
          13,
          89,
          13,
          20,
          7,
          38,
          97,
          83,
          62,
          64,
          45,
          13,
          76,
          91,
          5,
          85,
          23,
          97,
          76,
          61,
          47,
          95,
          82,
          64,
          10,
          15,
          47,
          2,
          21,
          29,
          78,
          77,
          52,
          18,
          70,
          70,
          63,
          95,
          97,
          41,
          18,
          85,
          17,
          100,
          69,
          95,
          0,
          55,
          27,
          21,
          27,
          64,
          63,
          57,
          29,
          7,
          34,
          69,
          84,
          42,
          72,
          56,
          2,
          55,
          65,
          59,
          86,
          18,
          79,
          58,
          66,
          28,
          1,
          22,
          20,
          82,
          63,
          53,
          6,
          14,
          71,
          3,
          44,
          20,
          78,
          49,
          92,
          9,
          21,
          28,
          23,
          17,
          83,
          93,
          84,
          66,
          96,
          66,
          30,
          28,
          13,
          75,
          49,
          8,
          95,
          2,
          2,
          89,
          10,
          29,
          56,
          1,
          91,
          84,
          41,
          22,
          5,
          59,
          26,
          79,
          8,
          52,
          70,
          65,
          91,
          4,
          80,
          73,
          53,
          86,
          24,
          77,
          28,
          48,
          6,
          70,
          35,
          39,
          16,
          99,
          89,
          27,
          51,
          24,
          84,
          1,
          73,
          25,
          38,
          80,
          49,
          20,
          33,
          52,
          40,
          60,
          85,
          61,
          56,
          5,
          2,
          11,
          73,
          75,
          35,
          9,
          8,
          44,
          72,
          7,
          33,
          95,
          27,
          69,
          6,
          69,
          50,
          46,
          18,
          62,
          87,
          52,
          92,
          46,
          87,
          5,
          78,
          72,
          23,
          82,
          10,
          86,
          68,
          72,
          70,
          7,
          16,
          65,
          47,
          24,
          11,
          82,
          19,
          26,
          3,
          74,
          98,
          95,
          64,
          46,
          20,
          55,
          99,
          57,
          53,
          10,
          72,
          33,
          65,
          25,
          25,
          99,
          1,
          100,
          2,
          2,
          73,
          30,
          77,
          5,
          73,
          26,
          38,
          11,
          100,
          37,
          3,
          98,
          16,
          11,
          44,
          67,
          66,
          68,
          68,
          60,
          33,
          18,
          10
         ]
        }
       ],
       "layout": {
        "template": {
         "data": {
          "bar": [
           {
            "error_x": {
             "color": "#2a3f5f"
            },
            "error_y": {
             "color": "#2a3f5f"
            },
            "marker": {
             "line": {
              "color": "#E5ECF6",
              "width": 0.5
             },
             "pattern": {
              "fillmode": "overlay",
              "size": 10,
              "solidity": 0.2
             }
            },
            "type": "bar"
           }
          ],
          "barpolar": [
           {
            "marker": {
             "line": {
              "color": "#E5ECF6",
              "width": 0.5
             },
             "pattern": {
              "fillmode": "overlay",
              "size": 10,
              "solidity": 0.2
             }
            },
            "type": "barpolar"
           }
          ],
          "carpet": [
           {
            "aaxis": {
             "endlinecolor": "#2a3f5f",
             "gridcolor": "white",
             "linecolor": "white",
             "minorgridcolor": "white",
             "startlinecolor": "#2a3f5f"
            },
            "baxis": {
             "endlinecolor": "#2a3f5f",
             "gridcolor": "white",
             "linecolor": "white",
             "minorgridcolor": "white",
             "startlinecolor": "#2a3f5f"
            },
            "type": "carpet"
           }
          ],
          "choropleth": [
           {
            "colorbar": {
             "outlinewidth": 0,
             "ticks": ""
            },
            "type": "choropleth"
           }
          ],
          "contour": [
           {
            "colorbar": {
             "outlinewidth": 0,
             "ticks": ""
            },
            "colorscale": [
             [
              0,
              "#0d0887"
             ],
             [
              0.1111111111111111,
              "#46039f"
             ],
             [
              0.2222222222222222,
              "#7201a8"
             ],
             [
              0.3333333333333333,
              "#9c179e"
             ],
             [
              0.4444444444444444,
              "#bd3786"
             ],
             [
              0.5555555555555556,
              "#d8576b"
             ],
             [
              0.6666666666666666,
              "#ed7953"
             ],
             [
              0.7777777777777778,
              "#fb9f3a"
             ],
             [
              0.8888888888888888,
              "#fdca26"
             ],
             [
              1,
              "#f0f921"
             ]
            ],
            "type": "contour"
           }
          ],
          "contourcarpet": [
           {
            "colorbar": {
             "outlinewidth": 0,
             "ticks": ""
            },
            "type": "contourcarpet"
           }
          ],
          "heatmap": [
           {
            "colorbar": {
             "outlinewidth": 0,
             "ticks": ""
            },
            "colorscale": [
             [
              0,
              "#0d0887"
             ],
             [
              0.1111111111111111,
              "#46039f"
             ],
             [
              0.2222222222222222,
              "#7201a8"
             ],
             [
              0.3333333333333333,
              "#9c179e"
             ],
             [
              0.4444444444444444,
              "#bd3786"
             ],
             [
              0.5555555555555556,
              "#d8576b"
             ],
             [
              0.6666666666666666,
              "#ed7953"
             ],
             [
              0.7777777777777778,
              "#fb9f3a"
             ],
             [
              0.8888888888888888,
              "#fdca26"
             ],
             [
              1,
              "#f0f921"
             ]
            ],
            "type": "heatmap"
           }
          ],
          "heatmapgl": [
           {
            "colorbar": {
             "outlinewidth": 0,
             "ticks": ""
            },
            "colorscale": [
             [
              0,
              "#0d0887"
             ],
             [
              0.1111111111111111,
              "#46039f"
             ],
             [
              0.2222222222222222,
              "#7201a8"
             ],
             [
              0.3333333333333333,
              "#9c179e"
             ],
             [
              0.4444444444444444,
              "#bd3786"
             ],
             [
              0.5555555555555556,
              "#d8576b"
             ],
             [
              0.6666666666666666,
              "#ed7953"
             ],
             [
              0.7777777777777778,
              "#fb9f3a"
             ],
             [
              0.8888888888888888,
              "#fdca26"
             ],
             [
              1,
              "#f0f921"
             ]
            ],
            "type": "heatmapgl"
           }
          ],
          "histogram": [
           {
            "marker": {
             "pattern": {
              "fillmode": "overlay",
              "size": 10,
              "solidity": 0.2
             }
            },
            "type": "histogram"
           }
          ],
          "histogram2d": [
           {
            "colorbar": {
             "outlinewidth": 0,
             "ticks": ""
            },
            "colorscale": [
             [
              0,
              "#0d0887"
             ],
             [
              0.1111111111111111,
              "#46039f"
             ],
             [
              0.2222222222222222,
              "#7201a8"
             ],
             [
              0.3333333333333333,
              "#9c179e"
             ],
             [
              0.4444444444444444,
              "#bd3786"
             ],
             [
              0.5555555555555556,
              "#d8576b"
             ],
             [
              0.6666666666666666,
              "#ed7953"
             ],
             [
              0.7777777777777778,
              "#fb9f3a"
             ],
             [
              0.8888888888888888,
              "#fdca26"
             ],
             [
              1,
              "#f0f921"
             ]
            ],
            "type": "histogram2d"
           }
          ],
          "histogram2dcontour": [
           {
            "colorbar": {
             "outlinewidth": 0,
             "ticks": ""
            },
            "colorscale": [
             [
              0,
              "#0d0887"
             ],
             [
              0.1111111111111111,
              "#46039f"
             ],
             [
              0.2222222222222222,
              "#7201a8"
             ],
             [
              0.3333333333333333,
              "#9c179e"
             ],
             [
              0.4444444444444444,
              "#bd3786"
             ],
             [
              0.5555555555555556,
              "#d8576b"
             ],
             [
              0.6666666666666666,
              "#ed7953"
             ],
             [
              0.7777777777777778,
              "#fb9f3a"
             ],
             [
              0.8888888888888888,
              "#fdca26"
             ],
             [
              1,
              "#f0f921"
             ]
            ],
            "type": "histogram2dcontour"
           }
          ],
          "mesh3d": [
           {
            "colorbar": {
             "outlinewidth": 0,
             "ticks": ""
            },
            "type": "mesh3d"
           }
          ],
          "parcoords": [
           {
            "line": {
             "colorbar": {
              "outlinewidth": 0,
              "ticks": ""
             }
            },
            "type": "parcoords"
           }
          ],
          "pie": [
           {
            "automargin": true,
            "type": "pie"
           }
          ],
          "scatter": [
           {
            "fillpattern": {
             "fillmode": "overlay",
             "size": 10,
             "solidity": 0.2
            },
            "type": "scatter"
           }
          ],
          "scatter3d": [
           {
            "line": {
             "colorbar": {
              "outlinewidth": 0,
              "ticks": ""
             }
            },
            "marker": {
             "colorbar": {
              "outlinewidth": 0,
              "ticks": ""
             }
            },
            "type": "scatter3d"
           }
          ],
          "scattercarpet": [
           {
            "marker": {
             "colorbar": {
              "outlinewidth": 0,
              "ticks": ""
             }
            },
            "type": "scattercarpet"
           }
          ],
          "scattergeo": [
           {
            "marker": {
             "colorbar": {
              "outlinewidth": 0,
              "ticks": ""
             }
            },
            "type": "scattergeo"
           }
          ],
          "scattergl": [
           {
            "marker": {
             "colorbar": {
              "outlinewidth": 0,
              "ticks": ""
             }
            },
            "type": "scattergl"
           }
          ],
          "scattermapbox": [
           {
            "marker": {
             "colorbar": {
              "outlinewidth": 0,
              "ticks": ""
             }
            },
            "type": "scattermapbox"
           }
          ],
          "scatterpolar": [
           {
            "marker": {
             "colorbar": {
              "outlinewidth": 0,
              "ticks": ""
             }
            },
            "type": "scatterpolar"
           }
          ],
          "scatterpolargl": [
           {
            "marker": {
             "colorbar": {
              "outlinewidth": 0,
              "ticks": ""
             }
            },
            "type": "scatterpolargl"
           }
          ],
          "scatterternary": [
           {
            "marker": {
             "colorbar": {
              "outlinewidth": 0,
              "ticks": ""
             }
            },
            "type": "scatterternary"
           }
          ],
          "surface": [
           {
            "colorbar": {
             "outlinewidth": 0,
             "ticks": ""
            },
            "colorscale": [
             [
              0,
              "#0d0887"
             ],
             [
              0.1111111111111111,
              "#46039f"
             ],
             [
              0.2222222222222222,
              "#7201a8"
             ],
             [
              0.3333333333333333,
              "#9c179e"
             ],
             [
              0.4444444444444444,
              "#bd3786"
             ],
             [
              0.5555555555555556,
              "#d8576b"
             ],
             [
              0.6666666666666666,
              "#ed7953"
             ],
             [
              0.7777777777777778,
              "#fb9f3a"
             ],
             [
              0.8888888888888888,
              "#fdca26"
             ],
             [
              1,
              "#f0f921"
             ]
            ],
            "type": "surface"
           }
          ],
          "table": [
           {
            "cells": {
             "fill": {
              "color": "#EBF0F8"
             },
             "line": {
              "color": "white"
             }
            },
            "header": {
             "fill": {
              "color": "#C8D4E3"
             },
             "line": {
              "color": "white"
             }
            },
            "type": "table"
           }
          ]
         },
         "layout": {
          "annotationdefaults": {
           "arrowcolor": "#2a3f5f",
           "arrowhead": 0,
           "arrowwidth": 1
          },
          "autotypenumbers": "strict",
          "coloraxis": {
           "colorbar": {
            "outlinewidth": 0,
            "ticks": ""
           }
          },
          "colorscale": {
           "diverging": [
            [
             0,
             "#8e0152"
            ],
            [
             0.1,
             "#c51b7d"
            ],
            [
             0.2,
             "#de77ae"
            ],
            [
             0.3,
             "#f1b6da"
            ],
            [
             0.4,
             "#fde0ef"
            ],
            [
             0.5,
             "#f7f7f7"
            ],
            [
             0.6,
             "#e6f5d0"
            ],
            [
             0.7,
             "#b8e186"
            ],
            [
             0.8,
             "#7fbc41"
            ],
            [
             0.9,
             "#4d9221"
            ],
            [
             1,
             "#276419"
            ]
           ],
           "sequential": [
            [
             0,
             "#0d0887"
            ],
            [
             0.1111111111111111,
             "#46039f"
            ],
            [
             0.2222222222222222,
             "#7201a8"
            ],
            [
             0.3333333333333333,
             "#9c179e"
            ],
            [
             0.4444444444444444,
             "#bd3786"
            ],
            [
             0.5555555555555556,
             "#d8576b"
            ],
            [
             0.6666666666666666,
             "#ed7953"
            ],
            [
             0.7777777777777778,
             "#fb9f3a"
            ],
            [
             0.8888888888888888,
             "#fdca26"
            ],
            [
             1,
             "#f0f921"
            ]
           ],
           "sequentialminus": [
            [
             0,
             "#0d0887"
            ],
            [
             0.1111111111111111,
             "#46039f"
            ],
            [
             0.2222222222222222,
             "#7201a8"
            ],
            [
             0.3333333333333333,
             "#9c179e"
            ],
            [
             0.4444444444444444,
             "#bd3786"
            ],
            [
             0.5555555555555556,
             "#d8576b"
            ],
            [
             0.6666666666666666,
             "#ed7953"
            ],
            [
             0.7777777777777778,
             "#fb9f3a"
            ],
            [
             0.8888888888888888,
             "#fdca26"
            ],
            [
             1,
             "#f0f921"
            ]
           ]
          },
          "colorway": [
           "#636efa",
           "#EF553B",
           "#00cc96",
           "#ab63fa",
           "#FFA15A",
           "#19d3f3",
           "#FF6692",
           "#B6E880",
           "#FF97FF",
           "#FECB52"
          ],
          "font": {
           "color": "#2a3f5f"
          },
          "geo": {
           "bgcolor": "white",
           "lakecolor": "white",
           "landcolor": "#E5ECF6",
           "showlakes": true,
           "showland": true,
           "subunitcolor": "white"
          },
          "hoverlabel": {
           "align": "left"
          },
          "hovermode": "closest",
          "mapbox": {
           "style": "light"
          },
          "paper_bgcolor": "white",
          "plot_bgcolor": "#E5ECF6",
          "polar": {
           "angularaxis": {
            "gridcolor": "white",
            "linecolor": "white",
            "ticks": ""
           },
           "bgcolor": "#E5ECF6",
           "radialaxis": {
            "gridcolor": "white",
            "linecolor": "white",
            "ticks": ""
           }
          },
          "scene": {
           "xaxis": {
            "backgroundcolor": "#E5ECF6",
            "gridcolor": "white",
            "gridwidth": 2,
            "linecolor": "white",
            "showbackground": true,
            "ticks": "",
            "zerolinecolor": "white"
           },
           "yaxis": {
            "backgroundcolor": "#E5ECF6",
            "gridcolor": "white",
            "gridwidth": 2,
            "linecolor": "white",
            "showbackground": true,
            "ticks": "",
            "zerolinecolor": "white"
           },
           "zaxis": {
            "backgroundcolor": "#E5ECF6",
            "gridcolor": "white",
            "gridwidth": 2,
            "linecolor": "white",
            "showbackground": true,
            "ticks": "",
            "zerolinecolor": "white"
           }
          },
          "shapedefaults": {
           "line": {
            "color": "#2a3f5f"
           }
          },
          "ternary": {
           "aaxis": {
            "gridcolor": "white",
            "linecolor": "white",
            "ticks": ""
           },
           "baxis": {
            "gridcolor": "white",
            "linecolor": "white",
            "ticks": ""
           },
           "bgcolor": "#E5ECF6",
           "caxis": {
            "gridcolor": "white",
            "linecolor": "white",
            "ticks": ""
           }
          },
          "title": {
           "x": 0.05
          },
          "xaxis": {
           "automargin": true,
           "gridcolor": "white",
           "linecolor": "white",
           "ticks": "",
           "title": {
            "standoff": 15
           },
           "zerolinecolor": "white",
           "zerolinewidth": 2
          },
          "yaxis": {
           "automargin": true,
           "gridcolor": "white",
           "linecolor": "white",
           "ticks": "",
           "title": {
            "standoff": 15
           },
           "zerolinecolor": "white",
           "zerolinewidth": 2
          }
         }
        },
        "title": {
         "text": "Interactive Plot of X2"
        },
        "xaxis": {
         "title": {
          "text": "Index"
         }
        },
        "yaxis": {
         "title": {
          "text": "Value"
         }
        }
       }
      },
      "text/html": [
       "<div>                            <div id=\"dacab504-f7fe-4d8d-a049-2c07e70421b6\" class=\"plotly-graph-div\" style=\"height:525px; width:100%;\"></div>            <script type=\"text/javascript\">                require([\"plotly\"], function(Plotly) {                    window.PLOTLYENV=window.PLOTLYENV || {};                                    if (document.getElementById(\"dacab504-f7fe-4d8d-a049-2c07e70421b6\")) {                    Plotly.newPlot(                        \"dacab504-f7fe-4d8d-a049-2c07e70421b6\",                        [{\"marker\":{\"size\":10},\"mode\":\"markers\",\"y\":[99,60,5,86,28,65,18,24,20,69,56,76,50,87,20,85,21,3,39,28,58,30,32,47,80,16,53,44,11,88,76,31,79,59,29,3,54,84,29,69,41,56,68,91,35,80,95,21,10,93,89,51,80,27,23,92,34,17,96,83,69,35,2,16,13,18,62,42,10,20,56,78,42,84,68,45,57,61,9,72,35,2,99,89,93,4,62,36,81,80,35,82,83,33,63,76,15,53,42,13,25,99,97,35,85,97,22,7,41,11,48,68,36,65,93,36,35,25,97,7,16,98,26,96,98,10,91,69,83,58,33,95,51,54,85,12,54,53,48,21,59,14,39,40,15,18,85,22,69,26,87,22,0,93,81,56,81,87,92,37,59,55,39,34,83,30,21,99,52,90,28,89,0,62,56,83,17,40,35,18,73,31,79,48,4,40,99,92,85,79,56,30,36,17,74,46,49,4,80,9,45,94,6,40,5,0,18,41,83,19,96,81,60,79,68,5,21,66,45,67,33,55,50,11,70,52,95,40,73,22,24,38,58,11,37,87,22,17,25,72,8,95,26,54,43,98,45,12,51,43,48,96,18,68,76,51,38,79,25,25,67,77,82,22,12,83,51,68,60,61,88,51,41,97,67,50,0,72,32,95,33,79,62,0,63,74,87,8,64,93,27,58,46,97,35,66,92,24,56,6,53,26,72,62,41,64,67,37,45,94,89,95,76,31,87,74,99,71,72,37,5,23,9,92,60,94,89,30,91,70,34,4,67,63,34,84,31,55,52,73,91,0,90,65,20,55,35,53,98,22,59,95,27,6,9,90,15,8,94,2,93,5,61,63,63,84,6,35,39,97,97,96,44,42,84,91,8,3,94,33,90,8,2,13,12,72,38,98,62,70,13,46,95,93,70,23,7,43,24,85,66,64,58,90,71,93,10,10,29,79,53,20,25,90,4,21,62,33,83,77,68,56,78,93,21,48,36,23,36,15,19,44,30,10,59,45,42,22,94,55,21,13,0,84,100,83,100,22,18,26,58,47,78,86,43,80,26,27,94,89,6,47,13,37,28,43,93,86,7,85,0,36,72,96,60,34,92,100,11,40,23,97,19,3,74,87,100,8,99,73,73,2,97,41,37,9,96,90,69,15,22,15,16,82,38,96,26,55,80,11,95,36,54,13,62,84,34,42,40,46,38,23,25,58,50,34,97,51,26,49,43,82,82,3,19,40,71,5,68,16,35,36,14,61,57,15,98,20,71,33,97,34,66,82,97,43,59,20,13,64,13,48,98,26,68,72,60,1,71,41,45,25,8,0,87,75,15,51,12,14,1,36,40,44,32,36,8,63,89,43,85,70,52,21,68,61,54,0,13,4,5,60,6,100,42,57,49,16,99,73,15,55,94,59,60,65,100,47,51,13,54,66,40,5,75,2,91,43,55,69,12,89,57,83,67,81,34,89,40,9,97,60,2,59,36,62,22,2,11,70,5,58,51,10,60,53,98,17,74,26,0,100,36,31,27,65,18,99,21,66,33,83,98,88,95,91,73,4,80,43,74,54,33,59,46,74,88,25,4,73,15,11,1,93,24,36,13,72,57,27,92,83,45,28,4,81,96,46,8,20,15,97,12,13,14,42,56,25,49,92,11,15,52,80,14,9,63,71,39,23,82,20,82,46,9,80,20,20,96,80,51,0,99,87,1,45,89,61,74,5,0,13,89,13,20,7,38,97,83,62,64,45,13,76,91,5,85,23,97,76,61,47,95,82,64,10,15,47,2,21,29,78,77,52,18,70,70,63,95,97,41,18,85,17,100,69,95,0,55,27,21,27,64,63,57,29,7,34,69,84,42,72,56,2,55,65,59,86,18,79,58,66,28,1,22,20,82,63,53,6,14,71,3,44,20,78,49,92,9,21,28,23,17,83,93,84,66,96,66,30,28,13,75,49,8,95,2,2,89,10,29,56,1,91,84,41,22,5,59,26,79,8,52,70,65,91,4,80,73,53,86,24,77,28,48,6,70,35,39,16,99,89,27,51,24,84,1,73,25,38,80,49,20,33,52,40,60,85,61,56,5,2,11,73,75,35,9,8,44,72,7,33,95,27,69,6,69,50,46,18,62,87,52,92,46,87,5,78,72,23,82,10,86,68,72,70,7,16,65,47,24,11,82,19,26,3,74,98,95,64,46,20,55,99,57,53,10,72,33,65,25,25,99,1,100,2,2,73,30,77,5,73,26,38,11,100,37,3,98,16,11,44,67,66,68,68,60,33,18,10],\"type\":\"scatter\"}],                        {\"template\":{\"data\":{\"barpolar\":[{\"marker\":{\"line\":{\"color\":\"#E5ECF6\",\"width\":0.5},\"pattern\":{\"fillmode\":\"overlay\",\"size\":10,\"solidity\":0.2}},\"type\":\"barpolar\"}],\"bar\":[{\"error_x\":{\"color\":\"#2a3f5f\"},\"error_y\":{\"color\":\"#2a3f5f\"},\"marker\":{\"line\":{\"color\":\"#E5ECF6\",\"width\":0.5},\"pattern\":{\"fillmode\":\"overlay\",\"size\":10,\"solidity\":0.2}},\"type\":\"bar\"}],\"carpet\":[{\"aaxis\":{\"endlinecolor\":\"#2a3f5f\",\"gridcolor\":\"white\",\"linecolor\":\"white\",\"minorgridcolor\":\"white\",\"startlinecolor\":\"#2a3f5f\"},\"baxis\":{\"endlinecolor\":\"#2a3f5f\",\"gridcolor\":\"white\",\"linecolor\":\"white\",\"minorgridcolor\":\"white\",\"startlinecolor\":\"#2a3f5f\"},\"type\":\"carpet\"}],\"choropleth\":[{\"colorbar\":{\"outlinewidth\":0,\"ticks\":\"\"},\"type\":\"choropleth\"}],\"contourcarpet\":[{\"colorbar\":{\"outlinewidth\":0,\"ticks\":\"\"},\"type\":\"contourcarpet\"}],\"contour\":[{\"colorbar\":{\"outlinewidth\":0,\"ticks\":\"\"},\"colorscale\":[[0.0,\"#0d0887\"],[0.1111111111111111,\"#46039f\"],[0.2222222222222222,\"#7201a8\"],[0.3333333333333333,\"#9c179e\"],[0.4444444444444444,\"#bd3786\"],[0.5555555555555556,\"#d8576b\"],[0.6666666666666666,\"#ed7953\"],[0.7777777777777778,\"#fb9f3a\"],[0.8888888888888888,\"#fdca26\"],[1.0,\"#f0f921\"]],\"type\":\"contour\"}],\"heatmapgl\":[{\"colorbar\":{\"outlinewidth\":0,\"ticks\":\"\"},\"colorscale\":[[0.0,\"#0d0887\"],[0.1111111111111111,\"#46039f\"],[0.2222222222222222,\"#7201a8\"],[0.3333333333333333,\"#9c179e\"],[0.4444444444444444,\"#bd3786\"],[0.5555555555555556,\"#d8576b\"],[0.6666666666666666,\"#ed7953\"],[0.7777777777777778,\"#fb9f3a\"],[0.8888888888888888,\"#fdca26\"],[1.0,\"#f0f921\"]],\"type\":\"heatmapgl\"}],\"heatmap\":[{\"colorbar\":{\"outlinewidth\":0,\"ticks\":\"\"},\"colorscale\":[[0.0,\"#0d0887\"],[0.1111111111111111,\"#46039f\"],[0.2222222222222222,\"#7201a8\"],[0.3333333333333333,\"#9c179e\"],[0.4444444444444444,\"#bd3786\"],[0.5555555555555556,\"#d8576b\"],[0.6666666666666666,\"#ed7953\"],[0.7777777777777778,\"#fb9f3a\"],[0.8888888888888888,\"#fdca26\"],[1.0,\"#f0f921\"]],\"type\":\"heatmap\"}],\"histogram2dcontour\":[{\"colorbar\":{\"outlinewidth\":0,\"ticks\":\"\"},\"colorscale\":[[0.0,\"#0d0887\"],[0.1111111111111111,\"#46039f\"],[0.2222222222222222,\"#7201a8\"],[0.3333333333333333,\"#9c179e\"],[0.4444444444444444,\"#bd3786\"],[0.5555555555555556,\"#d8576b\"],[0.6666666666666666,\"#ed7953\"],[0.7777777777777778,\"#fb9f3a\"],[0.8888888888888888,\"#fdca26\"],[1.0,\"#f0f921\"]],\"type\":\"histogram2dcontour\"}],\"histogram2d\":[{\"colorbar\":{\"outlinewidth\":0,\"ticks\":\"\"},\"colorscale\":[[0.0,\"#0d0887\"],[0.1111111111111111,\"#46039f\"],[0.2222222222222222,\"#7201a8\"],[0.3333333333333333,\"#9c179e\"],[0.4444444444444444,\"#bd3786\"],[0.5555555555555556,\"#d8576b\"],[0.6666666666666666,\"#ed7953\"],[0.7777777777777778,\"#fb9f3a\"],[0.8888888888888888,\"#fdca26\"],[1.0,\"#f0f921\"]],\"type\":\"histogram2d\"}],\"histogram\":[{\"marker\":{\"pattern\":{\"fillmode\":\"overlay\",\"size\":10,\"solidity\":0.2}},\"type\":\"histogram\"}],\"mesh3d\":[{\"colorbar\":{\"outlinewidth\":0,\"ticks\":\"\"},\"type\":\"mesh3d\"}],\"parcoords\":[{\"line\":{\"colorbar\":{\"outlinewidth\":0,\"ticks\":\"\"}},\"type\":\"parcoords\"}],\"pie\":[{\"automargin\":true,\"type\":\"pie\"}],\"scatter3d\":[{\"line\":{\"colorbar\":{\"outlinewidth\":0,\"ticks\":\"\"}},\"marker\":{\"colorbar\":{\"outlinewidth\":0,\"ticks\":\"\"}},\"type\":\"scatter3d\"}],\"scattercarpet\":[{\"marker\":{\"colorbar\":{\"outlinewidth\":0,\"ticks\":\"\"}},\"type\":\"scattercarpet\"}],\"scattergeo\":[{\"marker\":{\"colorbar\":{\"outlinewidth\":0,\"ticks\":\"\"}},\"type\":\"scattergeo\"}],\"scattergl\":[{\"marker\":{\"colorbar\":{\"outlinewidth\":0,\"ticks\":\"\"}},\"type\":\"scattergl\"}],\"scattermapbox\":[{\"marker\":{\"colorbar\":{\"outlinewidth\":0,\"ticks\":\"\"}},\"type\":\"scattermapbox\"}],\"scatterpolargl\":[{\"marker\":{\"colorbar\":{\"outlinewidth\":0,\"ticks\":\"\"}},\"type\":\"scatterpolargl\"}],\"scatterpolar\":[{\"marker\":{\"colorbar\":{\"outlinewidth\":0,\"ticks\":\"\"}},\"type\":\"scatterpolar\"}],\"scatter\":[{\"fillpattern\":{\"fillmode\":\"overlay\",\"size\":10,\"solidity\":0.2},\"type\":\"scatter\"}],\"scatterternary\":[{\"marker\":{\"colorbar\":{\"outlinewidth\":0,\"ticks\":\"\"}},\"type\":\"scatterternary\"}],\"surface\":[{\"colorbar\":{\"outlinewidth\":0,\"ticks\":\"\"},\"colorscale\":[[0.0,\"#0d0887\"],[0.1111111111111111,\"#46039f\"],[0.2222222222222222,\"#7201a8\"],[0.3333333333333333,\"#9c179e\"],[0.4444444444444444,\"#bd3786\"],[0.5555555555555556,\"#d8576b\"],[0.6666666666666666,\"#ed7953\"],[0.7777777777777778,\"#fb9f3a\"],[0.8888888888888888,\"#fdca26\"],[1.0,\"#f0f921\"]],\"type\":\"surface\"}],\"table\":[{\"cells\":{\"fill\":{\"color\":\"#EBF0F8\"},\"line\":{\"color\":\"white\"}},\"header\":{\"fill\":{\"color\":\"#C8D4E3\"},\"line\":{\"color\":\"white\"}},\"type\":\"table\"}]},\"layout\":{\"annotationdefaults\":{\"arrowcolor\":\"#2a3f5f\",\"arrowhead\":0,\"arrowwidth\":1},\"autotypenumbers\":\"strict\",\"coloraxis\":{\"colorbar\":{\"outlinewidth\":0,\"ticks\":\"\"}},\"colorscale\":{\"diverging\":[[0,\"#8e0152\"],[0.1,\"#c51b7d\"],[0.2,\"#de77ae\"],[0.3,\"#f1b6da\"],[0.4,\"#fde0ef\"],[0.5,\"#f7f7f7\"],[0.6,\"#e6f5d0\"],[0.7,\"#b8e186\"],[0.8,\"#7fbc41\"],[0.9,\"#4d9221\"],[1,\"#276419\"]],\"sequential\":[[0.0,\"#0d0887\"],[0.1111111111111111,\"#46039f\"],[0.2222222222222222,\"#7201a8\"],[0.3333333333333333,\"#9c179e\"],[0.4444444444444444,\"#bd3786\"],[0.5555555555555556,\"#d8576b\"],[0.6666666666666666,\"#ed7953\"],[0.7777777777777778,\"#fb9f3a\"],[0.8888888888888888,\"#fdca26\"],[1.0,\"#f0f921\"]],\"sequentialminus\":[[0.0,\"#0d0887\"],[0.1111111111111111,\"#46039f\"],[0.2222222222222222,\"#7201a8\"],[0.3333333333333333,\"#9c179e\"],[0.4444444444444444,\"#bd3786\"],[0.5555555555555556,\"#d8576b\"],[0.6666666666666666,\"#ed7953\"],[0.7777777777777778,\"#fb9f3a\"],[0.8888888888888888,\"#fdca26\"],[1.0,\"#f0f921\"]]},\"colorway\":[\"#636efa\",\"#EF553B\",\"#00cc96\",\"#ab63fa\",\"#FFA15A\",\"#19d3f3\",\"#FF6692\",\"#B6E880\",\"#FF97FF\",\"#FECB52\"],\"font\":{\"color\":\"#2a3f5f\"},\"geo\":{\"bgcolor\":\"white\",\"lakecolor\":\"white\",\"landcolor\":\"#E5ECF6\",\"showlakes\":true,\"showland\":true,\"subunitcolor\":\"white\"},\"hoverlabel\":{\"align\":\"left\"},\"hovermode\":\"closest\",\"mapbox\":{\"style\":\"light\"},\"paper_bgcolor\":\"white\",\"plot_bgcolor\":\"#E5ECF6\",\"polar\":{\"angularaxis\":{\"gridcolor\":\"white\",\"linecolor\":\"white\",\"ticks\":\"\"},\"bgcolor\":\"#E5ECF6\",\"radialaxis\":{\"gridcolor\":\"white\",\"linecolor\":\"white\",\"ticks\":\"\"}},\"scene\":{\"xaxis\":{\"backgroundcolor\":\"#E5ECF6\",\"gridcolor\":\"white\",\"gridwidth\":2,\"linecolor\":\"white\",\"showbackground\":true,\"ticks\":\"\",\"zerolinecolor\":\"white\"},\"yaxis\":{\"backgroundcolor\":\"#E5ECF6\",\"gridcolor\":\"white\",\"gridwidth\":2,\"linecolor\":\"white\",\"showbackground\":true,\"ticks\":\"\",\"zerolinecolor\":\"white\"},\"zaxis\":{\"backgroundcolor\":\"#E5ECF6\",\"gridcolor\":\"white\",\"gridwidth\":2,\"linecolor\":\"white\",\"showbackground\":true,\"ticks\":\"\",\"zerolinecolor\":\"white\"}},\"shapedefaults\":{\"line\":{\"color\":\"#2a3f5f\"}},\"ternary\":{\"aaxis\":{\"gridcolor\":\"white\",\"linecolor\":\"white\",\"ticks\":\"\"},\"baxis\":{\"gridcolor\":\"white\",\"linecolor\":\"white\",\"ticks\":\"\"},\"bgcolor\":\"#E5ECF6\",\"caxis\":{\"gridcolor\":\"white\",\"linecolor\":\"white\",\"ticks\":\"\"}},\"title\":{\"x\":0.05},\"xaxis\":{\"automargin\":true,\"gridcolor\":\"white\",\"linecolor\":\"white\",\"ticks\":\"\",\"title\":{\"standoff\":15},\"zerolinecolor\":\"white\",\"zerolinewidth\":2},\"yaxis\":{\"automargin\":true,\"gridcolor\":\"white\",\"linecolor\":\"white\",\"ticks\":\"\",\"title\":{\"standoff\":15},\"zerolinecolor\":\"white\",\"zerolinewidth\":2}}},\"title\":{\"text\":\"Interactive Plot of X2\"},\"xaxis\":{\"title\":{\"text\":\"Index\"}},\"yaxis\":{\"title\":{\"text\":\"Value\"}}},                        {\"responsive\": true}                    ).then(function(){\n",
       "                            \n",
       "var gd = document.getElementById('dacab504-f7fe-4d8d-a049-2c07e70421b6');\n",
       "var x = new MutationObserver(function (mutations, observer) {{\n",
       "        var display = window.getComputedStyle(gd).display;\n",
       "        if (!display || display === 'none') {{\n",
       "            console.log([gd, 'removed!']);\n",
       "            Plotly.purge(gd);\n",
       "            observer.disconnect();\n",
       "        }}\n",
       "}});\n",
       "\n",
       "// Listen for the removal of the full notebook cells\n",
       "var notebookContainer = gd.closest('#notebook-container');\n",
       "if (notebookContainer) {{\n",
       "    x.observe(notebookContainer, {childList: true});\n",
       "}}\n",
       "\n",
       "// Listen for the clearing of the current output cell\n",
       "var outputEl = gd.closest('.output');\n",
       "if (outputEl) {{\n",
       "    x.observe(outputEl, {childList: true});\n",
       "}}\n",
       "\n",
       "                        })                };                });            </script>        </div>"
      ]
     },
     "metadata": {},
     "output_type": "display_data"
    }
   ],
   "source": [
    "import plotly.graph_objs as go\n",
    "import plotly.offline as pyo\n",
    "\n",
    "# Assuming X2 is already defined and filled with data\n",
    "trace = go.Scatter(\n",
    "    y = X2,\n",
    "    mode = 'markers',\n",
    "    marker = dict(size = 10)\n",
    ")\n",
    "\n",
    "data = [trace]\n",
    "\n",
    "layout = go.Layout(\n",
    "    title = 'Interactive Plot of X2',\n",
    "    xaxis = dict(title = 'Index'),\n",
    "    yaxis = dict(title = 'Value')\n",
    ")\n",
    "\n",
    "fig = go.Figure(data=data, layout=layout)\n",
    "\n",
    "from plotly.offline import init_notebook_mode, iplot\n",
    "\n",
    "# This command makes Plotly plots display in the notebook\n",
    "init_notebook_mode(connected=True)\n",
    "\n",
    "iplot(fig)\n",
    "\n"
   ]
  },
  {
   "cell_type": "markdown",
   "id": "7d9d04db",
   "metadata": {},
   "source": [
    "### It looks like Interective Plot doesn't show up in the github, only static plot does!"
   ]
  },
  {
   "cell_type": "code",
   "execution_count": null,
   "id": "2b08378f",
   "metadata": {},
   "outputs": [],
   "source": []
  }
 ],
 "metadata": {
  "kernelspec": {
   "display_name": "Python 3 (ipykernel)",
   "language": "python",
   "name": "python3"
  },
  "language_info": {
   "codemirror_mode": {
    "name": "ipython",
    "version": 3
   },
   "file_extension": ".py",
   "mimetype": "text/x-python",
   "name": "python",
   "nbconvert_exporter": "python",
   "pygments_lexer": "ipython3",
   "version": "3.11.5"
  }
 },
 "nbformat": 4,
 "nbformat_minor": 5
}
