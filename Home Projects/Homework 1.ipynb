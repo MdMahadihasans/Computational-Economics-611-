{
 "cells": [
  {
   "cell_type": "markdown",
   "id": "b5d96f08",
   "metadata": {},
   "source": [
    "## Homework 1 \n",
    "### Md Mahadi Hasan\n",
    "\n",
    "Exercise 1:"
   ]
  },
  {
   "cell_type": "code",
   "execution_count": 5,
   "id": "7c335fad",
   "metadata": {},
   "outputs": [
    {
     "name": "stdout",
     "output_type": "stream",
     "text": [
      "[3, 6, 9, 12, 15, 18, 21, 24, 27, 30, 33, 36, 39, 42, 45, 48, 51, 54, 57, 60, 63, 66, 69, 72, 75, 78, 81, 84, 87, 90, 93, 96, 99, 102, 105, 108, 111, 114, 117, 120, 123, 126, 129, 132, 135, 138, 141, 144, 147, 150, 153, 156, 159, 162, 165, 168, 171, 174, 177, 180, 183, 186, 189, 192, 195, 198, 201, 204, 207, 210, 213, 216, 219, 222, 225, 228, 231, 234, 237, 240, 243, 246, 249, 252, 255, 258, 261, 264, 267, 270, 273, 276, 279, 282, 285, 288, 291, 294, 297, 300]\n"
     ]
    }
   ],
   "source": [
    "numbers = []\n",
    "for i in range(100):\n",
    "    numbers.append(3 * (i+1))\n",
    "    \n",
    "print(numbers)"
   ]
  },
  {
   "cell_type": "markdown",
   "id": "8c82e589",
   "metadata": {},
   "source": [
    "Exercise 2"
   ]
  },
  {
   "cell_type": "code",
   "execution_count": 6,
   "id": "87fbe18a",
   "metadata": {},
   "outputs": [
    {
     "name": "stdout",
     "output_type": "stream",
     "text": [
      "['3', '6', '9', '12', '15', '18', '21', '24', '27', '30', '33', '36', '39', '42', '45', '48', '51', '54', '57', '60', '63', '66', '69', '72', '75', '78', '81', '84', '87', '90', '93', '96', '99', '102', '105', '108', '111', '114', '117', '120', '123', '126', '129', '132', '135', '138', '141', '144', '147', '150', '153', '156', '159', '162', '165', '168', '171', '174', '177', '180', '183', '186', '189', '192', '195', '198', '201', '204', '207', '210', '213', '216', '219', '222', '225', '228', '231', '234', '237', '240', '243', '246', '249', '252', '255', '258', '261', '264', '267', '270', '273', '276', '279', '282', '285', '288', '291', '294', '297', '300']\n"
     ]
    }
   ],
   "source": [
    "numbers = []\n",
    "for i in range(100):\n",
    "    numbers.append(3 * (i+1))\n",
    "\n",
    "string_numbers = []\n",
    "for num in numbers:\n",
    "    string_numbers.append(str(num))\n",
    "    \n",
    "print(string_numbers)"
   ]
  },
  {
   "cell_type": "markdown",
   "id": "17f50e8a",
   "metadata": {},
   "source": [
    "Exercise 3"
   ]
  },
  {
   "cell_type": "code",
   "execution_count": 7,
   "id": "bec2db7d",
   "metadata": {},
   "outputs": [
    {
     "name": "stdout",
     "output_type": "stream",
     "text": [
      "369121518212427303336394245485154576063666972757881848790939699102105108111114117120123126129132135138141144147150153156159162165168171174177180183186189192195198201204207210213216219222225228231234237240243246249252255258261264267270273276279282285288291294297300\n"
     ]
    }
   ],
   "source": [
    "numbers = []\n",
    "for i in range(100): \n",
    "    numbers.append(3 * (i+1))\n",
    "\n",
    "string_numbers = []\n",
    "for num in numbers:\n",
    "    string_numbers.append(str(num))\n",
    "\n",
    "result = \"\"\n",
    "for string_num in string_numbers:\n",
    "    result += string_num\n",
    "\n",
    "print(result)"
   ]
  },
  {
   "cell_type": "markdown",
   "id": "30e2271a",
   "metadata": {},
   "source": [
    "Exercise 4"
   ]
  },
  {
   "cell_type": "code",
   "execution_count": 10,
   "id": "beb3b0de",
   "metadata": {},
   "outputs": [
    {
     "name": "stdout",
     "output_type": "stream",
     "text": [
      "[300, 297, 294, 291, 288, 285, 282, 279, 276, 273, 270, 267, 264, 261, 258, 255, 252, 249, 246, 243, 240, 237, 234, 231, 228, 225, 222, 219, 216, 213, 210, 207, 204, 201, 198, 195, 192, 189, 186, 183, 180, 177, 174, 171, 168, 165, 162, 159, 156, 153, 150, 147, 144, 141, 138, 135, 132, 129, 126, 123, 120, 117, 114, 111, 108, 105, 102, 99, 96, 93, 90, 87, 84, 81, 78, 75, 72, 69, 66, 63, 60, 57, 54, 51, 48, 45, 42, 39, 36, 33, 30, 27, 24, 21, 18, 15, 12, 9, 6, 3]\n"
     ]
    }
   ],
   "source": [
    "numbers = []\n",
    "for i in range(100):\n",
    "    numbers.append(3 * (i+1))\n",
    "    \n",
    "reversed_numbers = []\n",
    "\n",
    "for i in range(100):\n",
    "    last_num = numbers.pop()\n",
    "    reversed_numbers.append(last_num)\n",
    "    \n",
    "print(reversed_numbers)"
   ]
  },
  {
   "cell_type": "markdown",
   "id": "997f8d60",
   "metadata": {},
   "source": [
    "Exercise 5"
   ]
  },
  {
   "cell_type": "code",
   "execution_count": 19,
   "id": "ce493fd5",
   "metadata": {},
   "outputs": [
    {
     "name": "stdout",
     "output_type": "stream",
     "text": [
      "[153, 156, 159, 162, 165, 168, 171, 174, 177, 180, 183, 186, 189, 192, 195, 198, 201, 204, 207, 210, 213, 216, 219, 222, 225, 228, 231, 234, 237, 240, 243, 246, 249, 252, 255, 258, 261, 264, 267, 270, 273, 276, 279, 282, 285, 288, 291, 294, 297, 300]\n"
     ]
    }
   ],
   "source": [
    "numbers = []\n",
    "for i in range(100): \n",
    "    numbers.append(3 * (i+1))\n",
    "\n",
    "list_len = len(numbers)\n",
    "midpoint = list_len // 2\n",
    "\n",
    "second_half = numbers[midpoint:] \n",
    "\n",
    "print(second_half)"
   ]
  },
  {
   "cell_type": "markdown",
   "id": "d5e414ed",
   "metadata": {},
   "source": [
    "Exercise 6"
   ]
  },
  {
   "cell_type": "code",
   "execution_count": 20,
   "id": "4cc8d0dc",
   "metadata": {},
   "outputs": [
    {
     "name": "stdout",
     "output_type": "stream",
     "text": [
      "392581470369258147036925814703690150111172132193153114175135196156117178138199159210271231292252213274234295255216277237298258219270\n"
     ]
    }
   ],
   "source": [
    "numbers = []\n",
    "for i in range(100):\n",
    "    numbers.append(3 * (i+1))\n",
    "    \n",
    "string_numbers = []\n",
    "for num in numbers:\n",
    "    string_numbers.append(str(num))\n",
    "    \n",
    "result = \"\"\n",
    "for string_num in string_numbers:\n",
    "    result += string_num\n",
    "\n",
    "# Create new string with every other character \n",
    "new_string = \"\"\n",
    "for i in range(0, len(result), 2):\n",
    "    new_string += result[i]\n",
    "\n",
    "print(new_string)"
   ]
  },
  {
   "cell_type": "markdown",
   "id": "8034379c",
   "metadata": {},
   "source": [
    "Exercise 7"
   ]
  },
  {
   "cell_type": "markdown",
   "id": "9ed77ea6",
   "metadata": {},
   "source": [
    "*The important difference between them is that lists are mutable, meaning the elements inside a list can be changed after creation, while tuples are immutable, meaning the elements inside a tuple cannot be changed once the tuple is created.*"
   ]
  },
  {
   "cell_type": "markdown",
   "id": "1c011417",
   "metadata": {},
   "source": [
    "# Exploration"
   ]
  },
  {
   "cell_type": "markdown",
   "id": "706af704",
   "metadata": {},
   "source": [
    "Problem 1"
   ]
  },
  {
   "cell_type": "code",
   "execution_count": 15,
   "id": "ef7faf26",
   "metadata": {},
   "outputs": [
    {
     "name": "stdout",
     "output_type": "stream",
     "text": [
      "[2, 3, 5, 7, 11, 13, 17, 19, 23, 29, 31, 37, 41, 43, 47, 53, 59, 61, 67, 71, 73, 79, 83, 89, 97, 101, 103, 107, 109, 113, 127, 131, 137, 139, 149, 151, 157, 163, 167, 173, 179, 181, 191, 193, 197, 199, 211, 223, 227, 229, 233, 239, 241, 251, 257, 263, 269, 271, 277, 281, 283, 293, 307, 311, 313, 317, 331, 337, 347, 349, 353, 359, 367, 373, 379, 383, 389, 397, 401, 409, 419, 421, 431, 433, 439, 443, 449, 457, 461, 463, 467, 479, 487, 491, 499, 503, 509, 521, 523, 541]\n"
     ]
    }
   ],
   "source": [
    "def prime_numbers():\n",
    "    num = 2 \n",
    "    count = 0\n",
    "    while True:\n",
    "        for i in range(2, num):\n",
    "            if num % i == 0:\n",
    "                break\n",
    "        else:\n",
    "            yield num\n",
    "            count += 1\n",
    "            if count >= 100:\n",
    "                return\n",
    "        num += 1\n",
    "\n",
    "prime_list = list(prime_numbers())\n",
    "print(prime_list)"
   ]
  },
  {
   "cell_type": "markdown",
   "id": "9b90cef9",
   "metadata": {},
   "source": [
    "*A generator function allowss to produce a sequence of values over time rather than computing an sll list at once. When prime_numbers() is being called, it sets num to 2 to start checking for primes. Inside the function is an infinite while loop that repeatedly tests if num is prime-it iterates num by +1 each time*"
   ]
  },
  {
   "cell_type": "markdown",
   "id": "b2ecd62a",
   "metadata": {},
   "source": [
    "Problem 2"
   ]
  },
  {
   "cell_type": "code",
   "execution_count": 16,
   "id": "c3484a6b",
   "metadata": {},
   "outputs": [
    {
     "name": "stdout",
     "output_type": "stream",
     "text": [
      "[541, 523, 521, 509, 503, 499, 491, 487, 479, 467, 463, 461, 457, 449, 443, 439, 433, 431, 421, 419, 409, 401, 397, 389, 383, 379, 373, 367, 359, 353, 349, 347, 337, 331, 317, 313, 311, 307, 293, 283, 281, 277, 271, 269, 263, 257, 251, 241, 239, 233, 229, 227, 223, 211, 199, 197, 193, 191, 181, 179, 173, 167, 163, 157, 151, 149, 139, 137, 131, 127, 113, 109, 107, 103, 101, 97, 89, 83, 79, 73, 71, 67, 61, 59, 53, 47, 43, 41, 37, 31, 29, 23, 19, 17, 13, 11, 7, 5, 3, 2]\n"
     ]
    }
   ],
   "source": [
    "def prime_numbers():\n",
    "    num = 2\n",
    "    count = 0\n",
    "    while True:\n",
    "       if is_prime(num):\n",
    "           yield num\n",
    "           count += 1\n",
    "           if count >= 100:\n",
    "               return\n",
    "       num += 1\n",
    "       \n",
    "def is_prime(num):\n",
    "    for i in range(2, num):\n",
    "        if num % i == 0:\n",
    "            return False\n",
    "    return True\n",
    "\n",
    "primes = list(prime_numbers()) \n",
    "desc_primes = []\n",
    "\n",
    "for i in range(len(primes)):\n",
    "    desc_primes.append(primes.pop())\n",
    "    \n",
    "print(desc_primes)"
   ]
  },
  {
   "cell_type": "markdown",
   "id": "0e988f1b",
   "metadata": {},
   "source": [
    "Problem 3"
   ]
  },
  {
   "cell_type": "code",
   "execution_count": 17,
   "id": "99f338f7",
   "metadata": {},
   "outputs": [
    {
     "name": "stdout",
     "output_type": "stream",
     "text": [
      "[23, 211, 487, 467, 13, 179, 83, 67, 457, 367, 313, 379, 491, 433, 271, 311, 419, 199, 337, 523, 541, 2, 233, 359, 509, 277, 293, 251, 449, 281, 269, 19, 43, 239, 73, 397, 167, 157, 499, 11, 521, 131, 283, 127, 7, 173, 61, 17, 409, 47, 463, 443, 79, 97, 383, 89, 431, 421, 353, 149, 439, 5, 241, 41, 107, 263, 59, 389, 229, 101, 193, 317, 503, 331, 479, 347, 53, 461, 307, 71, 151, 191, 257, 181, 227, 113, 31, 37, 3, 197, 401, 137, 163, 223, 109, 373, 139, 103, 349, 29]\n"
     ]
    }
   ],
   "source": [
    "import random\n",
    "import copy\n",
    "\n",
    "primes = list(prime_numbers())\n",
    "\n",
    "random_primes = []\n",
    "remaining = copy.deepcopy(primes)  \n",
    "\n",
    "while remaining:\n",
    "    rand_index = random.randint(0, len(remaining)-1)  \n",
    "    random_primes.append(remaining.pop(rand_index))\n",
    "\n",
    "print(random_primes)"
   ]
  },
  {
   "cell_type": "markdown",
   "id": "4e4790fe",
   "metadata": {},
   "source": [
    "### Steps have been taken: \n",
    "\n",
    "**Generate the original ordered prime number list and store it in primes.  \n",
    "**Make a copy using copy.deepcopy() - this creates a separate duplicate rather than just a reference. Store this copy in remaining.  \n",
    "**Make an empty list random_primes to store the randomly ordered elements.  \n",
    "**Loop through remaining as long as it has elements.  \n",
    "**Pick a random index in remaining using randint() and append the popped element from that index to random_primes.  \n",
    "** By popping random index positions each iteration, the order of elements that get appended to random_primes is randomized.  \n",
    "** When remaining is empty, the loop exits and random_primes will contain the same values as primes but in a random order.  "
   ]
  },
  {
   "cell_type": "code",
   "execution_count": null,
   "id": "a23401ad",
   "metadata": {},
   "outputs": [],
   "source": []
  },
  {
   "cell_type": "code",
   "execution_count": null,
   "id": "e4bf7d58",
   "metadata": {},
   "outputs": [],
   "source": []
  }
 ],
 "metadata": {
  "kernelspec": {
   "display_name": "Python 3 (ipykernel)",
   "language": "python",
   "name": "python3"
  },
  "language_info": {
   "codemirror_mode": {
    "name": "ipython",
    "version": 3
   },
   "file_extension": ".py",
   "mimetype": "text/x-python",
   "name": "python",
   "nbconvert_exporter": "python",
   "pygments_lexer": "ipython3",
   "version": "3.11.5"
  }
 },
 "nbformat": 4,
 "nbformat_minor": 5
}
